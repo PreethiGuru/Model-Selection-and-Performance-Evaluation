{
  "nbformat": 4,
  "nbformat_minor": 0,
  "metadata": {
    "colab": {
      "name": "Main.ipynb",
      "provenance": [],
      "collapsed_sections": []
    },
    "kernelspec": {
      "display_name": "Python 3",
      "name": "python3"
    },
    "language_info": {
      "name": "python"
    },
    "accelerator": "GPU"
  },
  "cells": [
    {
      "cell_type": "code",
      "metadata": {
        "id": "qwHHc4Q2UwG_"
      },
      "source": [
        "!git clone https://github.com/PreethiGuru/Online-Shoppers-Purchasing-Intention.git"
      ],
      "execution_count": null,
      "outputs": []
    },
    {
      "cell_type": "code",
      "metadata": {
        "colab": {
          "base_uri": "https://localhost:8080/"
        },
        "id": "tggE1_gLVZfk",
        "outputId": "93c6186b-d739-4b5f-ba35-e0bb266a6ad7"
      },
      "source": [
        "!pip install sklearn\n",
        "!pip install pandas\n",
        "!pip install numpy\n",
        "!pip install matplotlib"
      ],
      "execution_count": null,
      "outputs": [
        {
          "output_type": "stream",
          "name": "stdout",
          "text": [
            "Requirement already satisfied: sklearn in /usr/local/lib/python3.7/dist-packages (0.0)\n",
            "Requirement already satisfied: scikit-learn in /usr/local/lib/python3.7/dist-packages (from sklearn) (1.0.1)\n",
            "Requirement already satisfied: threadpoolctl>=2.0.0 in /usr/local/lib/python3.7/dist-packages (from scikit-learn->sklearn) (3.0.0)\n",
            "Requirement already satisfied: joblib>=0.11 in /usr/local/lib/python3.7/dist-packages (from scikit-learn->sklearn) (1.1.0)\n",
            "Requirement already satisfied: scipy>=1.1.0 in /usr/local/lib/python3.7/dist-packages (from scikit-learn->sklearn) (1.4.1)\n",
            "Requirement already satisfied: numpy>=1.14.6 in /usr/local/lib/python3.7/dist-packages (from scikit-learn->sklearn) (1.19.5)\n",
            "Requirement already satisfied: pandas in /usr/local/lib/python3.7/dist-packages (1.1.5)\n",
            "Requirement already satisfied: numpy>=1.15.4 in /usr/local/lib/python3.7/dist-packages (from pandas) (1.19.5)\n",
            "Requirement already satisfied: python-dateutil>=2.7.3 in /usr/local/lib/python3.7/dist-packages (from pandas) (2.8.2)\n",
            "Requirement already satisfied: pytz>=2017.2 in /usr/local/lib/python3.7/dist-packages (from pandas) (2018.9)\n",
            "Requirement already satisfied: six>=1.5 in /usr/local/lib/python3.7/dist-packages (from python-dateutil>=2.7.3->pandas) (1.15.0)\n",
            "Requirement already satisfied: numpy in /usr/local/lib/python3.7/dist-packages (1.19.5)\n",
            "Requirement already satisfied: matplotlib in /usr/local/lib/python3.7/dist-packages (3.2.2)\n",
            "Requirement already satisfied: pyparsing!=2.0.4,!=2.1.2,!=2.1.6,>=2.0.1 in /usr/local/lib/python3.7/dist-packages (from matplotlib) (3.0.6)\n",
            "Requirement already satisfied: python-dateutil>=2.1 in /usr/local/lib/python3.7/dist-packages (from matplotlib) (2.8.2)\n",
            "Requirement already satisfied: kiwisolver>=1.0.1 in /usr/local/lib/python3.7/dist-packages (from matplotlib) (1.3.2)\n",
            "Requirement already satisfied: numpy>=1.11 in /usr/local/lib/python3.7/dist-packages (from matplotlib) (1.19.5)\n",
            "Requirement already satisfied: cycler>=0.10 in /usr/local/lib/python3.7/dist-packages (from matplotlib) (0.11.0)\n",
            "Requirement already satisfied: six>=1.5 in /usr/local/lib/python3.7/dist-packages (from python-dateutil>=2.1->matplotlib) (1.15.0)\n"
          ]
        }
      ]
    },
    {
      "cell_type": "code",
      "metadata": {
        "id": "b8k4GZc6Vvnt"
      },
      "source": [
        "import numpy as np\n",
        "import pandas as pd\n",
        "import matplotlib.pyplot as plt\n",
        "import seaborn as sns\n",
        "import plotly as py\n",
        "import plotly.graph_objs as go"
      ],
      "execution_count": null,
      "outputs": []
    },
    {
      "cell_type": "code",
      "metadata": {
        "id": "tZ4glfdyV5Om"
      },
      "source": [
        "# Read our dataset\n",
        "Data = pd.read_csv('/content/Online-Shoppers-Purchasing-Intention/online_shoppers_intention.csv')"
      ],
      "execution_count": null,
      "outputs": []
    },
    {
      "cell_type": "code",
      "metadata": {
        "colab": {
          "base_uri": "https://localhost:8080/",
          "height": 226
        },
        "id": "C0o97i9sV9p9",
        "outputId": "74b248b4-19a4-4de0-98df-39f520191655"
      },
      "source": [
        "Data.head()"
      ],
      "execution_count": null,
      "outputs": [
        {
          "output_type": "execute_result",
          "data": {
            "text/html": [
              "<div>\n",
              "<style scoped>\n",
              "    .dataframe tbody tr th:only-of-type {\n",
              "        vertical-align: middle;\n",
              "    }\n",
              "\n",
              "    .dataframe tbody tr th {\n",
              "        vertical-align: top;\n",
              "    }\n",
              "\n",
              "    .dataframe thead th {\n",
              "        text-align: right;\n",
              "    }\n",
              "</style>\n",
              "<table border=\"1\" class=\"dataframe\">\n",
              "  <thead>\n",
              "    <tr style=\"text-align: right;\">\n",
              "      <th></th>\n",
              "      <th>Administrative</th>\n",
              "      <th>Administrative_Duration</th>\n",
              "      <th>Informational</th>\n",
              "      <th>Informational_Duration</th>\n",
              "      <th>ProductRelated</th>\n",
              "      <th>ProductRelated_Duration</th>\n",
              "      <th>BounceRates</th>\n",
              "      <th>ExitRates</th>\n",
              "      <th>PageValues</th>\n",
              "      <th>SpecialDay</th>\n",
              "      <th>Month</th>\n",
              "      <th>OperatingSystems</th>\n",
              "      <th>Browser</th>\n",
              "      <th>Region</th>\n",
              "      <th>TrafficType</th>\n",
              "      <th>VisitorType</th>\n",
              "      <th>Weekend</th>\n",
              "      <th>Revenue</th>\n",
              "    </tr>\n",
              "  </thead>\n",
              "  <tbody>\n",
              "    <tr>\n",
              "      <th>0</th>\n",
              "      <td>0</td>\n",
              "      <td>0.0</td>\n",
              "      <td>0</td>\n",
              "      <td>0.0</td>\n",
              "      <td>1</td>\n",
              "      <td>0.000000</td>\n",
              "      <td>0.20</td>\n",
              "      <td>0.20</td>\n",
              "      <td>0.0</td>\n",
              "      <td>0.0</td>\n",
              "      <td>Feb</td>\n",
              "      <td>1</td>\n",
              "      <td>1</td>\n",
              "      <td>1</td>\n",
              "      <td>1</td>\n",
              "      <td>Returning_Visitor</td>\n",
              "      <td>False</td>\n",
              "      <td>False</td>\n",
              "    </tr>\n",
              "    <tr>\n",
              "      <th>1</th>\n",
              "      <td>0</td>\n",
              "      <td>0.0</td>\n",
              "      <td>0</td>\n",
              "      <td>0.0</td>\n",
              "      <td>2</td>\n",
              "      <td>64.000000</td>\n",
              "      <td>0.00</td>\n",
              "      <td>0.10</td>\n",
              "      <td>0.0</td>\n",
              "      <td>0.0</td>\n",
              "      <td>Feb</td>\n",
              "      <td>2</td>\n",
              "      <td>2</td>\n",
              "      <td>1</td>\n",
              "      <td>2</td>\n",
              "      <td>Returning_Visitor</td>\n",
              "      <td>False</td>\n",
              "      <td>False</td>\n",
              "    </tr>\n",
              "    <tr>\n",
              "      <th>2</th>\n",
              "      <td>0</td>\n",
              "      <td>0.0</td>\n",
              "      <td>0</td>\n",
              "      <td>0.0</td>\n",
              "      <td>1</td>\n",
              "      <td>0.000000</td>\n",
              "      <td>0.20</td>\n",
              "      <td>0.20</td>\n",
              "      <td>0.0</td>\n",
              "      <td>0.0</td>\n",
              "      <td>Feb</td>\n",
              "      <td>4</td>\n",
              "      <td>1</td>\n",
              "      <td>9</td>\n",
              "      <td>3</td>\n",
              "      <td>Returning_Visitor</td>\n",
              "      <td>False</td>\n",
              "      <td>False</td>\n",
              "    </tr>\n",
              "    <tr>\n",
              "      <th>3</th>\n",
              "      <td>0</td>\n",
              "      <td>0.0</td>\n",
              "      <td>0</td>\n",
              "      <td>0.0</td>\n",
              "      <td>2</td>\n",
              "      <td>2.666667</td>\n",
              "      <td>0.05</td>\n",
              "      <td>0.14</td>\n",
              "      <td>0.0</td>\n",
              "      <td>0.0</td>\n",
              "      <td>Feb</td>\n",
              "      <td>3</td>\n",
              "      <td>2</td>\n",
              "      <td>2</td>\n",
              "      <td>4</td>\n",
              "      <td>Returning_Visitor</td>\n",
              "      <td>False</td>\n",
              "      <td>False</td>\n",
              "    </tr>\n",
              "    <tr>\n",
              "      <th>4</th>\n",
              "      <td>0</td>\n",
              "      <td>0.0</td>\n",
              "      <td>0</td>\n",
              "      <td>0.0</td>\n",
              "      <td>10</td>\n",
              "      <td>627.500000</td>\n",
              "      <td>0.02</td>\n",
              "      <td>0.05</td>\n",
              "      <td>0.0</td>\n",
              "      <td>0.0</td>\n",
              "      <td>Feb</td>\n",
              "      <td>3</td>\n",
              "      <td>3</td>\n",
              "      <td>1</td>\n",
              "      <td>4</td>\n",
              "      <td>Returning_Visitor</td>\n",
              "      <td>True</td>\n",
              "      <td>False</td>\n",
              "    </tr>\n",
              "  </tbody>\n",
              "</table>\n",
              "</div>"
            ],
            "text/plain": [
              "   Administrative  Administrative_Duration  ...  Weekend  Revenue\n",
              "0               0                      0.0  ...    False    False\n",
              "1               0                      0.0  ...    False    False\n",
              "2               0                      0.0  ...    False    False\n",
              "3               0                      0.0  ...    False    False\n",
              "4               0                      0.0  ...     True    False\n",
              "\n",
              "[5 rows x 18 columns]"
            ]
          },
          "metadata": {},
          "execution_count": 4
        }
      ]
    },
    {
      "cell_type": "code",
      "metadata": {
        "colab": {
          "base_uri": "https://localhost:8080/",
          "height": 320
        },
        "id": "QL7i8heIWSe-",
        "outputId": "7c4487a9-7417-4861-ff62-fc1bf7486181"
      },
      "source": [
        "Data.describe()"
      ],
      "execution_count": null,
      "outputs": [
        {
          "output_type": "execute_result",
          "data": {
            "text/html": [
              "<div>\n",
              "<style scoped>\n",
              "    .dataframe tbody tr th:only-of-type {\n",
              "        vertical-align: middle;\n",
              "    }\n",
              "\n",
              "    .dataframe tbody tr th {\n",
              "        vertical-align: top;\n",
              "    }\n",
              "\n",
              "    .dataframe thead th {\n",
              "        text-align: right;\n",
              "    }\n",
              "</style>\n",
              "<table border=\"1\" class=\"dataframe\">\n",
              "  <thead>\n",
              "    <tr style=\"text-align: right;\">\n",
              "      <th></th>\n",
              "      <th>Administrative</th>\n",
              "      <th>Administrative_Duration</th>\n",
              "      <th>Informational</th>\n",
              "      <th>Informational_Duration</th>\n",
              "      <th>ProductRelated</th>\n",
              "      <th>ProductRelated_Duration</th>\n",
              "      <th>BounceRates</th>\n",
              "      <th>ExitRates</th>\n",
              "      <th>PageValues</th>\n",
              "      <th>SpecialDay</th>\n",
              "      <th>OperatingSystems</th>\n",
              "      <th>Browser</th>\n",
              "      <th>Region</th>\n",
              "      <th>TrafficType</th>\n",
              "    </tr>\n",
              "  </thead>\n",
              "  <tbody>\n",
              "    <tr>\n",
              "      <th>count</th>\n",
              "      <td>12330.000000</td>\n",
              "      <td>12330.000000</td>\n",
              "      <td>12330.000000</td>\n",
              "      <td>12330.000000</td>\n",
              "      <td>12330.000000</td>\n",
              "      <td>12330.000000</td>\n",
              "      <td>12330.000000</td>\n",
              "      <td>12330.000000</td>\n",
              "      <td>12330.000000</td>\n",
              "      <td>12330.000000</td>\n",
              "      <td>12330.000000</td>\n",
              "      <td>12330.000000</td>\n",
              "      <td>12330.000000</td>\n",
              "      <td>12330.000000</td>\n",
              "    </tr>\n",
              "    <tr>\n",
              "      <th>mean</th>\n",
              "      <td>2.315166</td>\n",
              "      <td>80.818611</td>\n",
              "      <td>0.503569</td>\n",
              "      <td>34.472398</td>\n",
              "      <td>31.731468</td>\n",
              "      <td>1194.746220</td>\n",
              "      <td>0.022191</td>\n",
              "      <td>0.043073</td>\n",
              "      <td>5.889258</td>\n",
              "      <td>0.061427</td>\n",
              "      <td>2.124006</td>\n",
              "      <td>2.357097</td>\n",
              "      <td>3.147364</td>\n",
              "      <td>4.069586</td>\n",
              "    </tr>\n",
              "    <tr>\n",
              "      <th>std</th>\n",
              "      <td>3.321784</td>\n",
              "      <td>176.779107</td>\n",
              "      <td>1.270156</td>\n",
              "      <td>140.749294</td>\n",
              "      <td>44.475503</td>\n",
              "      <td>1913.669288</td>\n",
              "      <td>0.048488</td>\n",
              "      <td>0.048597</td>\n",
              "      <td>18.568437</td>\n",
              "      <td>0.198917</td>\n",
              "      <td>0.911325</td>\n",
              "      <td>1.717277</td>\n",
              "      <td>2.401591</td>\n",
              "      <td>4.025169</td>\n",
              "    </tr>\n",
              "    <tr>\n",
              "      <th>min</th>\n",
              "      <td>0.000000</td>\n",
              "      <td>0.000000</td>\n",
              "      <td>0.000000</td>\n",
              "      <td>0.000000</td>\n",
              "      <td>0.000000</td>\n",
              "      <td>0.000000</td>\n",
              "      <td>0.000000</td>\n",
              "      <td>0.000000</td>\n",
              "      <td>0.000000</td>\n",
              "      <td>0.000000</td>\n",
              "      <td>1.000000</td>\n",
              "      <td>1.000000</td>\n",
              "      <td>1.000000</td>\n",
              "      <td>1.000000</td>\n",
              "    </tr>\n",
              "    <tr>\n",
              "      <th>25%</th>\n",
              "      <td>0.000000</td>\n",
              "      <td>0.000000</td>\n",
              "      <td>0.000000</td>\n",
              "      <td>0.000000</td>\n",
              "      <td>7.000000</td>\n",
              "      <td>184.137500</td>\n",
              "      <td>0.000000</td>\n",
              "      <td>0.014286</td>\n",
              "      <td>0.000000</td>\n",
              "      <td>0.000000</td>\n",
              "      <td>2.000000</td>\n",
              "      <td>2.000000</td>\n",
              "      <td>1.000000</td>\n",
              "      <td>2.000000</td>\n",
              "    </tr>\n",
              "    <tr>\n",
              "      <th>50%</th>\n",
              "      <td>1.000000</td>\n",
              "      <td>7.500000</td>\n",
              "      <td>0.000000</td>\n",
              "      <td>0.000000</td>\n",
              "      <td>18.000000</td>\n",
              "      <td>598.936905</td>\n",
              "      <td>0.003112</td>\n",
              "      <td>0.025156</td>\n",
              "      <td>0.000000</td>\n",
              "      <td>0.000000</td>\n",
              "      <td>2.000000</td>\n",
              "      <td>2.000000</td>\n",
              "      <td>3.000000</td>\n",
              "      <td>2.000000</td>\n",
              "    </tr>\n",
              "    <tr>\n",
              "      <th>75%</th>\n",
              "      <td>4.000000</td>\n",
              "      <td>93.256250</td>\n",
              "      <td>0.000000</td>\n",
              "      <td>0.000000</td>\n",
              "      <td>38.000000</td>\n",
              "      <td>1464.157213</td>\n",
              "      <td>0.016813</td>\n",
              "      <td>0.050000</td>\n",
              "      <td>0.000000</td>\n",
              "      <td>0.000000</td>\n",
              "      <td>3.000000</td>\n",
              "      <td>2.000000</td>\n",
              "      <td>4.000000</td>\n",
              "      <td>4.000000</td>\n",
              "    </tr>\n",
              "    <tr>\n",
              "      <th>max</th>\n",
              "      <td>27.000000</td>\n",
              "      <td>3398.750000</td>\n",
              "      <td>24.000000</td>\n",
              "      <td>2549.375000</td>\n",
              "      <td>705.000000</td>\n",
              "      <td>63973.522230</td>\n",
              "      <td>0.200000</td>\n",
              "      <td>0.200000</td>\n",
              "      <td>361.763742</td>\n",
              "      <td>1.000000</td>\n",
              "      <td>8.000000</td>\n",
              "      <td>13.000000</td>\n",
              "      <td>9.000000</td>\n",
              "      <td>20.000000</td>\n",
              "    </tr>\n",
              "  </tbody>\n",
              "</table>\n",
              "</div>"
            ],
            "text/plain": [
              "       Administrative  Administrative_Duration  ...        Region   TrafficType\n",
              "count    12330.000000             12330.000000  ...  12330.000000  12330.000000\n",
              "mean         2.315166                80.818611  ...      3.147364      4.069586\n",
              "std          3.321784               176.779107  ...      2.401591      4.025169\n",
              "min          0.000000                 0.000000  ...      1.000000      1.000000\n",
              "25%          0.000000                 0.000000  ...      1.000000      2.000000\n",
              "50%          1.000000                 7.500000  ...      3.000000      2.000000\n",
              "75%          4.000000                93.256250  ...      4.000000      4.000000\n",
              "max         27.000000              3398.750000  ...      9.000000     20.000000\n",
              "\n",
              "[8 rows x 14 columns]"
            ]
          },
          "metadata": {},
          "execution_count": 5
        }
      ]
    },
    {
      "cell_type": "code",
      "metadata": {
        "colab": {
          "base_uri": "https://localhost:8080/"
        },
        "id": "aAMql5bMWi6N",
        "outputId": "3b90701f-0a43-4ae0-804f-88e6289f2555"
      },
      "source": [
        "# Data Preprocessing\n",
        "Data.isnull().sum()\n"
      ],
      "execution_count": null,
      "outputs": [
        {
          "output_type": "execute_result",
          "data": {
            "text/plain": [
              "Administrative             0\n",
              "Administrative_Duration    0\n",
              "Informational              0\n",
              "Informational_Duration     0\n",
              "ProductRelated             0\n",
              "ProductRelated_Duration    0\n",
              "BounceRates                0\n",
              "ExitRates                  0\n",
              "PageValues                 0\n",
              "SpecialDay                 0\n",
              "Month                      0\n",
              "OperatingSystems           0\n",
              "Browser                    0\n",
              "Region                     0\n",
              "TrafficType                0\n",
              "VisitorType                0\n",
              "Weekend                    0\n",
              "Revenue                    0\n",
              "dtype: int64"
            ]
          },
          "metadata": {},
          "execution_count": 6
        }
      ]
    },
    {
      "cell_type": "code",
      "metadata": {
        "colab": {
          "base_uri": "https://localhost:8080/"
        },
        "id": "HtBtLsOpWpOt",
        "outputId": "475f89be-89fb-461a-be93-bf78f48f89ac"
      },
      "source": [
        "Data.dtypes"
      ],
      "execution_count": null,
      "outputs": [
        {
          "output_type": "execute_result",
          "data": {
            "text/plain": [
              "Administrative               int64\n",
              "Administrative_Duration    float64\n",
              "Informational                int64\n",
              "Informational_Duration     float64\n",
              "ProductRelated               int64\n",
              "ProductRelated_Duration    float64\n",
              "BounceRates                float64\n",
              "ExitRates                  float64\n",
              "PageValues                 float64\n",
              "SpecialDay                 float64\n",
              "Month                       object\n",
              "OperatingSystems             int64\n",
              "Browser                      int64\n",
              "Region                       int64\n",
              "TrafficType                  int64\n",
              "VisitorType                 object\n",
              "Weekend                       bool\n",
              "Revenue                       bool\n",
              "dtype: object"
            ]
          },
          "metadata": {},
          "execution_count": 7
        }
      ]
    },
    {
      "cell_type": "code",
      "metadata": {
        "_kg_hide-input": true,
        "id": "57T_nocr6azz",
        "trusted": true,
        "colab": {
          "base_uri": "https://localhost:8080/",
          "height": 620
        },
        "outputId": "addb69bd-ced5-4555-a921-f8f7d4a0320a"
      },
      "source": [
        "# Checking the distribution of customers on Revenue\n",
        "\n",
        "plt.rcParams['figure.figsize'] = (10, 8)\n",
        "\n",
        "sns.countplot(Data['Revenue'], palette = 'pastel')\n",
        "plt.title('Was something bought?', fontsize = 30)\n",
        "plt.xlabel('Revenue or not', fontsize = 15)\n",
        "plt.ylabel('count', fontsize = 15)\n",
        "plt.show()"
      ],
      "execution_count": null,
      "outputs": [
        {
          "output_type": "stream",
          "name": "stderr",
          "text": [
            "/usr/local/lib/python3.7/dist-packages/seaborn/_decorators.py:43: FutureWarning:\n",
            "\n",
            "Pass the following variable as a keyword arg: x. From version 0.12, the only valid positional argument will be `data`, and passing other arguments without an explicit keyword will result in an error or misinterpretation.\n",
            "\n"
          ]
        },
        {
          "output_type": "display_data",
          "data": {
            "image/png": "[encoded data removed]",
            "text/plain": [
              "<Figure size 720x576 with 1 Axes>"
            ]
          },
          "metadata": {
            "needs_background": "light"
          }
        }
      ]
    },
    {
      "cell_type": "code",
      "metadata": {
        "id": "lqQIeiKKYcAV",
        "colab": {
          "base_uri": "https://localhost:8080/"
        },
        "outputId": "0b6096b3-2e29-41d8-91d4-0a7ad5774ef7"
      },
      "source": [
        "y = Data[\"Revenue\"]\n",
        "X = pd.get_dummies(Data)\n",
        "X.columns"
      ],
      "execution_count": null,
      "outputs": [
        {
          "output_type": "execute_result",
          "data": {
            "text/plain": [
              "Index(['Administrative', 'Administrative_Duration', 'Informational',\n",
              "       'Informational_Duration', 'ProductRelated', 'ProductRelated_Duration',\n",
              "       'BounceRates', 'ExitRates', 'PageValues', 'SpecialDay',\n",
              "       'OperatingSystems', 'Browser', 'Region', 'TrafficType', 'Weekend',\n",
              "       'Revenue', 'Month_Aug', 'Month_Dec', 'Month_Feb', 'Month_Jul',\n",
              "       'Month_June', 'Month_Mar', 'Month_May', 'Month_Nov', 'Month_Oct',\n",
              "       'Month_Sep', 'VisitorType_New_Visitor', 'VisitorType_Other',\n",
              "       'VisitorType_Returning_Visitor'],\n",
              "      dtype='object')"
            ]
          },
          "metadata": {},
          "execution_count": 20
        }
      ]
    },
    {
      "cell_type": "code",
      "metadata": {
        "colab": {
          "base_uri": "https://localhost:8080/"
        },
        "id": "-R-VNYZNYu1T",
        "outputId": "7c92f494-81a4-474b-83f8-83d5747519af"
      },
      "source": [
        "from sklearn.preprocessing import LabelEncoder\n",
        "\n",
        "le = LabelEncoder()\n",
        "Data['Revenue'] = le.fit_transform(Data['Revenue'])\n",
        "Data['Revenue'].value_counts()"
      ],
      "execution_count": null,
      "outputs": [
        {
          "output_type": "execute_result",
          "data": {
            "text/plain": [
              "0    10422\n",
              "1     1908\n",
              "Name: Revenue, dtype: int64"
            ]
          },
          "metadata": {},
          "execution_count": 21
        }
      ]
    },
    {
      "cell_type": "code",
      "metadata": {
        "colab": {
          "base_uri": "https://localhost:8080/"
        },
        "id": "DKKmFzJdY4AV",
        "outputId": "346588e8-2805-418c-85ee-812a0f1f7743"
      },
      "source": [
        "# Removing the target column revenue from X\n",
        "X = X.drop(['Revenue', 'OperatingSystems', 'Browser', 'Region', 'TrafficType'], axis = 1)\n",
        "\n",
        "\n",
        "# Checking the shapes\n",
        "print(\"Shape of X:\", X.shape)\n",
        "print(\"Shape of y:\", y.shape)"
      ],
      "execution_count": null,
      "outputs": [
        {
          "output_type": "stream",
          "name": "stdout",
          "text": [
            "Shape of X: (12330, 24)\n",
            "Shape of y: (12330,)\n"
          ]
        }
      ]
    },
    {
      "cell_type": "code",
      "metadata": {
        "id": "Rmrc-E7bXDaU"
      },
      "source": [
        "from sklearn.model_selection import train_test_split\n",
        "X_train, X_test, y_train, y_test = train_test_split(X, y, test_size=0.2)\n",
        "from sklearn.metrics import confusion_matrix, ConfusionMatrixDisplay\n",
        "from sklearn.metrics import classification_report"
      ],
      "execution_count": null,
      "outputs": []
    },
    {
      "cell_type": "code",
      "metadata": {
        "colab": {
          "base_uri": "https://localhost:8080/"
        },
        "id": "RseYWjsNZVsj",
        "outputId": "02462323-3d7f-4b33-b7dc-4f0bcb82520d"
      },
      "source": [
        "# Logistic Regression Model\n",
        "from sklearn.linear_model import LogisticRegression\n",
        "logistic_regression = LogisticRegression()\n",
        "model_lr = logistic_regression.fit(X_train, y_train)\n",
        "y_pred_lr = model_lr.predict(X_test)"
      ],
      "execution_count": null,
      "outputs": [
        {
          "output_type": "stream",
          "name": "stderr",
          "text": [
            "/usr/local/lib/python3.7/dist-packages/sklearn/linear_model/_logistic.py:818: ConvergenceWarning:\n",
            "\n",
            "lbfgs failed to converge (status=1):\n",
            "STOP: TOTAL NO. of ITERATIONS REACHED LIMIT.\n",
            "\n",
            "Increase the number of iterations (max_iter) or scale the data as shown in:\n",
            "    https://scikit-learn.org/stable/modules/preprocessing.html\n",
            "Please also refer to the documentation for alternative solver options:\n",
            "    https://scikit-learn.org/stable/modules/linear_model.html#logistic-regression\n",
            "\n"
          ]
        }
      ]
    },
    {
      "cell_type": "code",
      "metadata": {
        "colab": {
          "base_uri": "https://localhost:8080/",
          "height": 633
        },
        "id": "jrJJDSXpaYoy",
        "outputId": "77216762-b6d0-4bbd-9123-ede8baa7c3e8"
      },
      "source": [
        "print(\"Training Accuracy :\", model_lr.score(X_train, y_train))\n",
        "print(\"Testing Accuracy :\", model_lr.score(X_test, y_test))\n",
        "\n",
        "# confusion matrix\n",
        "cm = confusion_matrix(y_test, y_pred_lr)\n",
        "disp = ConfusionMatrixDisplay(confusion_matrix=cm, display_labels=model_lr.classes_)\n",
        "disp.plot()\n",
        "plt.show()\n",
        "\n",
        "# classification report\n",
        "cr = classification_report(y_test, y_pred_lr)\n",
        "print(cr)"
      ],
      "execution_count": null,
      "outputs": [
        {
          "output_type": "stream",
          "name": "stdout",
          "text": [
            "Training Accuracy : 0.8817923763179237\n",
            "Testing Accuracy : 0.889294403892944\n"
          ]
        },
        {
          "output_type": "display_data",
          "data": {
            "image/png": "[encoded data removed]",
            "text/plain": [
              "<Figure size 1296x504 with 2 Axes>"
            ]
          },
          "metadata": {
            "needs_background": "light"
          }
        },
        {
          "output_type": "stream",
          "name": "stdout",
          "text": [
            "              precision    recall  f1-score   support\n",
            "\n",
            "           0       0.91      0.97      0.94      2116\n",
            "           1       0.70      0.39      0.50       350\n",
            "\n",
            "    accuracy                           0.89      2466\n",
            "   macro avg       0.80      0.68      0.72      2466\n",
            "weighted avg       0.88      0.89      0.88      2466\n",
            "\n"
          ]
        }
      ]
    },
    {
      "cell_type": "code",
      "metadata": {
        "id": "SSnCQquy99Xt"
      },
      "source": [
        "# Linear SVM Model\n",
        "from sklearn.svm import LinearSVC\n",
        "model_SVM_lin = LinearSVC(random_state = 0, dual = False)\n",
        "model_SVM_lin.fit(X_train, y_train)\n",
        "y_pred_SVM_lin = model_SVM_lin.predict(X_test)"
      ],
      "execution_count": null,
      "outputs": []
    },
    {
      "cell_type": "code",
      "metadata": {
        "colab": {
          "base_uri": "https://localhost:8080/",
          "height": 633
        },
        "id": "-NhtuHsS972C",
        "outputId": "a82c43e2-37e2-4afb-cd49-7e45fc2e84a7"
      },
      "source": [
        "print(\"Training Accuracy :\", model_SVM_lin.score(X_train, y_train))\n",
        "print(\"Testing Accuracy :\", model_SVM_lin.score(X_test, y_test))\n",
        "\n",
        "# confusion matrix\n",
        "cm = confusion_matrix(y_test, y_pred_SVM_lin)\n",
        "disp = ConfusionMatrixDisplay(confusion_matrix=cm, display_labels=model_SVM_lin.classes_)\n",
        "disp.plot()\n",
        "plt.show()\n",
        "\n",
        "# classification report\n",
        "cr = classification_report(y_test, y_pred_SVM_lin)\n",
        "print(cr)"
      ],
      "execution_count": null,
      "outputs": [
        {
          "output_type": "stream",
          "name": "stdout",
          "text": [
            "Training Accuracy : 0.879257907542579\n",
            "Testing Accuracy : 0.8864557988645579\n"
          ]
        },
        {
          "output_type": "display_data",
          "data": {
            "image/png": "[encoded data removed]",
            "text/plain": [
              "<Figure size 1296x504 with 2 Axes>"
            ]
          },
          "metadata": {
            "needs_background": "light"
          }
        },
        {
          "output_type": "stream",
          "name": "stdout",
          "text": [
            "              precision    recall  f1-score   support\n",
            "\n",
            "           0       0.90      0.98      0.94      2116\n",
            "           1       0.74      0.31      0.44       350\n",
            "\n",
            "    accuracy                           0.89      2466\n",
            "   macro avg       0.82      0.65      0.69      2466\n",
            "weighted avg       0.87      0.89      0.87      2466\n",
            "\n"
          ]
        }
      ]
    },
    {
      "cell_type": "code",
      "metadata": {
        "id": "nK5sCu2MdHga"
      },
      "source": [
        "# Quadratic SVM Model\n",
        "from sklearn.svm import SVC\n",
        "model_SVM_quad = SVC(kernel='poly', degree = 2, random_state = 0)\n",
        "model_SVM_quad.fit(X_train, y_train)\n",
        "y_pred_SVM_quad = model_SVM_quad.predict(X_test)"
      ],
      "execution_count": null,
      "outputs": []
    },
    {
      "cell_type": "code",
      "metadata": {
        "id": "U9UH63HwgkzW",
        "colab": {
          "base_uri": "https://localhost:8080/",
          "height": 633
        },
        "outputId": "605d4ded-2a95-43ce-da1f-1f2b9c9630d7"
      },
      "source": [
        "print(\"Training Accuracy :\", model_SVM_quad.score(X_train, y_train))\n",
        "print(\"Testing Accuracy :\", model_SVM_quad.score(X_test, y_test))\n",
        "\n",
        "# confusion matrix\n",
        "cm = confusion_matrix(y_test, y_pred_SVM_quad)\n",
        "disp = ConfusionMatrixDisplay(confusion_matrix=cm, display_labels=model_SVM_quad.classes_)\n",
        "disp.plot()\n",
        "plt.show()\n",
        "\n",
        "# classification report\n",
        "cr = classification_report(y_test, y_pred_SVM_quad)\n",
        "print(cr)"
      ],
      "execution_count": null,
      "outputs": [
        {
          "output_type": "stream",
          "name": "stdout",
          "text": [
            "Training Accuracy : 0.8427615571776156\n",
            "Testing Accuracy : 0.8576642335766423\n"
          ]
        },
        {
          "output_type": "display_data",
          "data": {
            "image/png": "[encoded data removed]",
            "text/plain": [
              "<Figure size 1296x504 with 2 Axes>"
            ]
          },
          "metadata": {
            "needs_background": "light"
          }
        },
        {
          "output_type": "stream",
          "name": "stdout",
          "text": [
            "              precision    recall  f1-score   support\n",
            "\n",
            "           0       0.86      1.00      0.92      2116\n",
            "           1       0.33      0.00      0.01       350\n",
            "\n",
            "    accuracy                           0.86      2466\n",
            "   macro avg       0.60      0.50      0.46      2466\n",
            "weighted avg       0.78      0.86      0.79      2466\n",
            "\n"
          ]
        }
      ]
    },
    {
      "cell_type": "code",
      "metadata": {
        "id": "UVV66cdFf9y3"
      },
      "source": [
        "#KNN\n",
        "from sklearn.neighbors import KNeighborsClassifier\n",
        "model_knn = KNeighborsClassifier(n_neighbors = 5, metric = 'minkowski', p = 2)\n",
        "model_knn.fit(X_train, y_train)\n",
        "y_pred_knn = model_knn.predict(X_test)"
      ],
      "execution_count": null,
      "outputs": []
    },
    {
      "cell_type": "code",
      "metadata": {
        "colab": {
          "base_uri": "https://localhost:8080/",
          "height": 633
        },
        "id": "6a2f9m2Zg0GG",
        "outputId": "55a5ee4c-3768-4e10-e8b4-81df015575e5"
      },
      "source": [
        "print(\"Training Accuracy :\", model_knn.score(X_train, y_train))\n",
        "print(\"Testing Accuracy :\", model_knn.score(X_test, y_test))\n",
        "\n",
        "# confusion matrix\n",
        "cm = confusion_matrix(y_test, y_pred_knn)\n",
        "disp = ConfusionMatrixDisplay(confusion_matrix=cm, display_labels=model_knn.classes_)\n",
        "disp.plot()\n",
        "plt.show()\n",
        "\n",
        "# classification report\n",
        "cr = classification_report(y_test, y_pred_knn)\n",
        "print(cr)"
      ],
      "execution_count": null,
      "outputs": [
        {
          "output_type": "stream",
          "name": "stdout",
          "text": [
            "Training Accuracy : 0.8929440389294404\n",
            "Testing Accuracy : 0.8726682887266829\n"
          ]
        },
        {
          "output_type": "display_data",
          "data": {
            "image/png": "[encoded data removed]",
            "text/plain": [
              "<Figure size 1296x504 with 2 Axes>"
            ]
          },
          "metadata": {
            "needs_background": "light"
          }
        },
        {
          "output_type": "stream",
          "name": "stdout",
          "text": [
            "              precision    recall  f1-score   support\n",
            "\n",
            "           0       0.90      0.96      0.93      2116\n",
            "           1       0.59      0.32      0.42       350\n",
            "\n",
            "    accuracy                           0.87      2466\n",
            "   macro avg       0.75      0.64      0.67      2466\n",
            "weighted avg       0.85      0.87      0.86      2466\n",
            "\n"
          ]
        }
      ]
    },
    {
      "cell_type": "code",
      "metadata": {
        "id": "sxn0FXffg7a2"
      },
      "source": [
        "# Random Forest Classifier\n",
        "from sklearn.ensemble import RandomForestClassifier\n",
        "model_rf = RandomForestClassifier()\n",
        "model_rf = model_rf.fit(X_train,y_train)\n",
        "y_pred_rf = model_rf.predict(X_test)"
      ],
      "execution_count": null,
      "outputs": []
    },
    {
      "cell_type": "code",
      "metadata": {
        "colab": {
          "base_uri": "https://localhost:8080/",
          "height": 633
        },
        "id": "bJmnEhkneHDA",
        "outputId": "b9df2fba-7191-4303-d70f-c900c4c24341"
      },
      "source": [
        "print(\"Training Accuracy :\", model_rf.score(X_train, y_train))\n",
        "print(\"Testing Accuracy :\", model_rf.score(X_test, y_test))\n",
        "\n",
        "# confusion matrix\n",
        "cm = confusion_matrix(y_test, y_pred_rf)\n",
        "disp = ConfusionMatrixDisplay(confusion_matrix=cm, display_labels=model_rf.classes_)\n",
        "disp.plot()\n",
        "plt.show()\n",
        "\n",
        "# classification report\n",
        "cr = classification_report(y_test, y_pred_rf)\n",
        "print(cr)"
      ],
      "execution_count": null,
      "outputs": [
        {
          "output_type": "stream",
          "name": "stdout",
          "text": [
            "Training Accuracy : 0.9997972424979724\n",
            "Testing Accuracy : 0.9047039740470397\n"
          ]
        },
        {
          "output_type": "display_data",
          "data": {
            "image/png": "[encoded data removed]",
            "text/plain": [
              "<Figure size 1296x504 with 2 Axes>"
            ]
          },
          "metadata": {
            "needs_background": "light"
          }
        },
        {
          "output_type": "stream",
          "name": "stdout",
          "text": [
            "              precision    recall  f1-score   support\n",
            "\n",
            "           0       0.93      0.96      0.95      2116\n",
            "           1       0.70      0.58      0.63       350\n",
            "\n",
            "    accuracy                           0.90      2466\n",
            "   macro avg       0.81      0.77      0.79      2466\n",
            "weighted avg       0.90      0.90      0.90      2466\n",
            "\n"
          ]
        }
      ]
    },
    {
      "cell_type": "code",
      "metadata": {
        "colab": {
          "base_uri": "https://localhost:8080/"
        },
        "id": "74l6a32Neply",
        "outputId": "9e0ea1c6-3705-4e84-d68d-8ad210a5a169"
      },
      "source": [
        "# Neural Network Classifier\n",
        "from keras.models import Sequential\n",
        "from keras.layers import Dropout\n",
        "from keras.layers import Dense\n",
        "X_train = np.asarray(X_train).astype(np.float32)\n",
        "X_test = np.asarray(X_test).astype(np.float32)\n",
        "y_train = np.asarray(y_train).astype(np.float32)\n",
        "model_nn = Sequential()\n",
        "model_nn.add(Dense(units = 64, activation = 'relu', input_dim = 24))\n",
        "model_nn.add(Dropout(0.2))\n",
        "model_nn.add(Dense(units = 32, activation = 'relu'))\n",
        "model_nn.add(Dropout(0.2))\n",
        "model_nn.add(Dense(units = 16, activation = 'relu'))\n",
        "model_nn.add(Dropout(0.2))\n",
        "model_nn.add(Dense(units = 1, activation = 'sigmoid'))\n",
        "model_nn.compile(optimizer = 'rmsprop', loss = 'binary_crossentropy', metrics = ['accuracy'])\n",
        "model_nn.fit(X_train, y_train, batch_size = 32, epochs = 100, verbose=2)\n",
        "y_pred_nn = model_nn.predict(X_test)\n",
        "y_pred_nn = np.round(y_pred_nn).astype(int)"
      ],
      "execution_count": null,
      "outputs": [
        {
          "output_type": "stream",
          "name": "stdout",
          "text": [
            "Epoch 1/100\n",
            "309/309 - 2s - loss: 6.5104 - accuracy: 0.7069 - 2s/epoch - 8ms/step\n",
            "Epoch 2/100\n",
            "309/309 - 1s - loss: 0.8302 - accuracy: 0.8108 - 1s/epoch - 4ms/step\n",
            "Epoch 3/100\n",
            "309/309 - 1s - loss: 0.5716 - accuracy: 0.8403 - 1s/epoch - 4ms/step\n",
            "Epoch 4/100\n",
            "309/309 - 1s - loss: 0.5414 - accuracy: 0.8407 - 1s/epoch - 3ms/step\n",
            "Epoch 5/100\n",
            "309/309 - 1s - loss: 0.4811 - accuracy: 0.8418 - 1s/epoch - 4ms/step\n",
            "Epoch 6/100\n",
            "309/309 - 1s - loss: 0.4465 - accuracy: 0.8444 - 1s/epoch - 3ms/step\n",
            "Epoch 7/100\n",
            "309/309 - 1s - loss: 0.4392 - accuracy: 0.8490 - 1s/epoch - 3ms/step\n",
            "Epoch 8/100\n",
            "309/309 - 1s - loss: 0.4025 - accuracy: 0.8549 - 1s/epoch - 3ms/step\n",
            "Epoch 9/100\n",
            "309/309 - 1s - loss: 0.3934 - accuracy: 0.8589 - 1s/epoch - 3ms/step\n",
            "Epoch 10/100\n",
            "309/309 - 1s - loss: 0.3760 - accuracy: 0.8658 - 1s/epoch - 4ms/step\n",
            "Epoch 11/100\n",
            "309/309 - 1s - loss: 0.3614 - accuracy: 0.8681 - 1s/epoch - 3ms/step\n",
            "Epoch 12/100\n",
            "309/309 - 1s - loss: 0.3524 - accuracy: 0.8711 - 1s/epoch - 3ms/step\n",
            "Epoch 13/100\n",
            "309/309 - 1s - loss: 0.3383 - accuracy: 0.8691 - 1s/epoch - 3ms/step\n",
            "Epoch 14/100\n",
            "309/309 - 1s - loss: 0.3298 - accuracy: 0.8722 - 1s/epoch - 3ms/step\n",
            "Epoch 15/100\n",
            "309/309 - 1s - loss: 0.3253 - accuracy: 0.8743 - 1s/epoch - 4ms/step\n",
            "Epoch 16/100\n",
            "309/309 - 1s - loss: 0.3179 - accuracy: 0.8730 - 1s/epoch - 3ms/step\n",
            "Epoch 17/100\n",
            "309/309 - 1s - loss: 0.3154 - accuracy: 0.8728 - 1s/epoch - 3ms/step\n",
            "Epoch 18/100\n",
            "309/309 - 1s - loss: 0.3134 - accuracy: 0.8760 - 1s/epoch - 3ms/step\n",
            "Epoch 19/100\n",
            "309/309 - 1s - loss: 0.3092 - accuracy: 0.8758 - 1s/epoch - 3ms/step\n",
            "Epoch 20/100\n",
            "309/309 - 1s - loss: 0.3082 - accuracy: 0.8789 - 1s/epoch - 3ms/step\n",
            "Epoch 21/100\n",
            "309/309 - 1s - loss: 0.3059 - accuracy: 0.8749 - 1s/epoch - 3ms/step\n",
            "Epoch 22/100\n",
            "309/309 - 1s - loss: 0.3040 - accuracy: 0.8777 - 1s/epoch - 3ms/step\n",
            "Epoch 23/100\n",
            "309/309 - 1s - loss: 0.3040 - accuracy: 0.8806 - 1s/epoch - 4ms/step\n",
            "Epoch 24/100\n",
            "309/309 - 1s - loss: 0.2997 - accuracy: 0.8827 - 1s/epoch - 3ms/step\n",
            "Epoch 25/100\n",
            "309/309 - 1s - loss: 0.2922 - accuracy: 0.8788 - 1s/epoch - 4ms/step\n",
            "Epoch 26/100\n",
            "309/309 - 1s - loss: 0.3007 - accuracy: 0.8786 - 1s/epoch - 3ms/step\n",
            "Epoch 27/100\n",
            "309/309 - 1s - loss: 0.2994 - accuracy: 0.8790 - 1s/epoch - 3ms/step\n",
            "Epoch 28/100\n",
            "309/309 - 1s - loss: 0.2911 - accuracy: 0.8800 - 1s/epoch - 3ms/step\n",
            "Epoch 29/100\n",
            "309/309 - 1s - loss: 0.2882 - accuracy: 0.8814 - 1s/epoch - 3ms/step\n",
            "Epoch 30/100\n",
            "309/309 - 1s - loss: 0.2916 - accuracy: 0.8810 - 1s/epoch - 3ms/step\n",
            "Epoch 31/100\n",
            "309/309 - 1s - loss: 0.2881 - accuracy: 0.8815 - 1s/epoch - 3ms/step\n",
            "Epoch 32/100\n",
            "309/309 - 1s - loss: 0.2861 - accuracy: 0.8813 - 1s/epoch - 3ms/step\n",
            "Epoch 33/100\n",
            "309/309 - 1s - loss: 0.2890 - accuracy: 0.8841 - 1s/epoch - 3ms/step\n",
            "Epoch 34/100\n",
            "309/309 - 1s - loss: 0.2881 - accuracy: 0.8834 - 1s/epoch - 3ms/step\n",
            "Epoch 35/100\n",
            "309/309 - 1s - loss: 0.2878 - accuracy: 0.8817 - 1s/epoch - 4ms/step\n",
            "Epoch 36/100\n",
            "309/309 - 1s - loss: 0.2876 - accuracy: 0.8838 - 1s/epoch - 3ms/step\n",
            "Epoch 37/100\n",
            "309/309 - 1s - loss: 0.2845 - accuracy: 0.8798 - 1s/epoch - 3ms/step\n",
            "Epoch 38/100\n",
            "309/309 - 1s - loss: 0.2807 - accuracy: 0.8821 - 1s/epoch - 3ms/step\n",
            "Epoch 39/100\n",
            "309/309 - 1s - loss: 0.2871 - accuracy: 0.8855 - 1s/epoch - 3ms/step\n",
            "Epoch 40/100\n",
            "309/309 - 1s - loss: 0.2806 - accuracy: 0.8859 - 1s/epoch - 3ms/step\n",
            "Epoch 41/100\n",
            "309/309 - 1s - loss: 0.2835 - accuracy: 0.8817 - 1s/epoch - 3ms/step\n",
            "Epoch 42/100\n",
            "309/309 - 1s - loss: 0.2874 - accuracy: 0.8839 - 1s/epoch - 3ms/step\n",
            "Epoch 43/100\n",
            "309/309 - 1s - loss: 0.2878 - accuracy: 0.8833 - 1s/epoch - 3ms/step\n",
            "Epoch 44/100\n",
            "309/309 - 1s - loss: 0.2823 - accuracy: 0.8826 - 1s/epoch - 3ms/step\n",
            "Epoch 45/100\n",
            "309/309 - 1s - loss: 0.2799 - accuracy: 0.8852 - 1s/epoch - 4ms/step\n",
            "Epoch 46/100\n",
            "309/309 - 1s - loss: 0.2736 - accuracy: 0.8861 - 1s/epoch - 3ms/step\n",
            "Epoch 47/100\n",
            "309/309 - 1s - loss: 0.2783 - accuracy: 0.8869 - 1s/epoch - 3ms/step\n",
            "Epoch 48/100\n",
            "309/309 - 1s - loss: 0.2793 - accuracy: 0.8858 - 1s/epoch - 4ms/step\n",
            "Epoch 49/100\n",
            "309/309 - 1s - loss: 0.2775 - accuracy: 0.8848 - 1s/epoch - 3ms/step\n",
            "Epoch 50/100\n",
            "309/309 - 1s - loss: 0.2826 - accuracy: 0.8851 - 1s/epoch - 3ms/step\n",
            "Epoch 51/100\n",
            "309/309 - 1s - loss: 0.2783 - accuracy: 0.8863 - 1s/epoch - 3ms/step\n",
            "Epoch 52/100\n",
            "309/309 - 1s - loss: 0.2788 - accuracy: 0.8833 - 1s/epoch - 3ms/step\n",
            "Epoch 53/100\n",
            "309/309 - 1s - loss: 0.2739 - accuracy: 0.8875 - 1s/epoch - 3ms/step\n",
            "Epoch 54/100\n",
            "309/309 - 1s - loss: 0.2740 - accuracy: 0.8826 - 1s/epoch - 3ms/step\n",
            "Epoch 55/100\n",
            "309/309 - 1s - loss: 0.2734 - accuracy: 0.8864 - 1s/epoch - 4ms/step\n",
            "Epoch 56/100\n",
            "309/309 - 1s - loss: 0.2753 - accuracy: 0.8872 - 1s/epoch - 3ms/step\n",
            "Epoch 57/100\n",
            "309/309 - 1s - loss: 0.2750 - accuracy: 0.8855 - 1s/epoch - 3ms/step\n",
            "Epoch 58/100\n",
            "309/309 - 1s - loss: 0.2711 - accuracy: 0.8865 - 1s/epoch - 3ms/step\n",
            "Epoch 59/100\n",
            "309/309 - 1s - loss: 0.2759 - accuracy: 0.8849 - 1s/epoch - 3ms/step\n",
            "Epoch 60/100\n",
            "309/309 - 1s - loss: 0.2718 - accuracy: 0.8882 - 1s/epoch - 3ms/step\n",
            "Epoch 61/100\n",
            "309/309 - 1s - loss: 0.2712 - accuracy: 0.8877 - 1s/epoch - 3ms/step\n",
            "Epoch 62/100\n",
            "309/309 - 1s - loss: 0.2694 - accuracy: 0.8871 - 1s/epoch - 3ms/step\n",
            "Epoch 63/100\n",
            "309/309 - 1s - loss: 0.2746 - accuracy: 0.8861 - 1s/epoch - 3ms/step\n",
            "Epoch 64/100\n",
            "309/309 - 1s - loss: 0.2707 - accuracy: 0.8871 - 1s/epoch - 3ms/step\n",
            "Epoch 65/100\n",
            "309/309 - 1s - loss: 0.2759 - accuracy: 0.8858 - 1s/epoch - 4ms/step\n",
            "Epoch 66/100\n",
            "309/309 - 1s - loss: 0.2773 - accuracy: 0.8858 - 1s/epoch - 3ms/step\n",
            "Epoch 67/100\n",
            "309/309 - 1s - loss: 0.2698 - accuracy: 0.8899 - 1s/epoch - 4ms/step\n",
            "Epoch 68/100\n",
            "309/309 - 1s - loss: 0.2715 - accuracy: 0.8875 - 1s/epoch - 3ms/step\n",
            "Epoch 69/100\n",
            "309/309 - 1s - loss: 0.2701 - accuracy: 0.8884 - 1s/epoch - 4ms/step\n",
            "Epoch 70/100\n",
            "309/309 - 1s - loss: 0.2671 - accuracy: 0.8862 - 1s/epoch - 4ms/step\n",
            "Epoch 71/100\n",
            "309/309 - 1s - loss: 0.2706 - accuracy: 0.8882 - 1s/epoch - 3ms/step\n",
            "Epoch 72/100\n",
            "309/309 - 1s - loss: 0.2742 - accuracy: 0.8863 - 1s/epoch - 4ms/step\n",
            "Epoch 73/100\n",
            "309/309 - 1s - loss: 0.2708 - accuracy: 0.8884 - 1s/epoch - 4ms/step\n",
            "Epoch 74/100\n",
            "309/309 - 1s - loss: 0.2688 - accuracy: 0.8872 - 1s/epoch - 3ms/step\n",
            "Epoch 75/100\n",
            "309/309 - 1s - loss: 0.2719 - accuracy: 0.8884 - 1s/epoch - 4ms/step\n",
            "Epoch 76/100\n",
            "309/309 - 1s - loss: 0.2698 - accuracy: 0.8891 - 1s/epoch - 3ms/step\n",
            "Epoch 77/100\n",
            "309/309 - 1s - loss: 0.2631 - accuracy: 0.8863 - 1s/epoch - 3ms/step\n",
            "Epoch 78/100\n",
            "309/309 - 1s - loss: 0.2677 - accuracy: 0.8853 - 1s/epoch - 3ms/step\n",
            "Epoch 79/100\n",
            "309/309 - 1s - loss: 0.2695 - accuracy: 0.8876 - 1s/epoch - 3ms/step\n",
            "Epoch 80/100\n",
            "309/309 - 1s - loss: 0.2714 - accuracy: 0.8872 - 1s/epoch - 3ms/step\n",
            "Epoch 81/100\n",
            "309/309 - 1s - loss: 0.2709 - accuracy: 0.8852 - 1s/epoch - 3ms/step\n",
            "Epoch 82/100\n",
            "309/309 - 1s - loss: 0.2721 - accuracy: 0.8835 - 1s/epoch - 3ms/step\n",
            "Epoch 83/100\n",
            "309/309 - 1s - loss: 0.2726 - accuracy: 0.8872 - 1s/epoch - 3ms/step\n",
            "Epoch 84/100\n",
            "309/309 - 1s - loss: 0.2667 - accuracy: 0.8864 - 1s/epoch - 3ms/step\n",
            "Epoch 85/100\n",
            "309/309 - 1s - loss: 0.2700 - accuracy: 0.8839 - 1s/epoch - 3ms/step\n",
            "Epoch 86/100\n",
            "309/309 - 1s - loss: 0.2692 - accuracy: 0.8879 - 1s/epoch - 4ms/step\n",
            "Epoch 87/100\n",
            "309/309 - 1s - loss: 0.2660 - accuracy: 0.8876 - 1s/epoch - 3ms/step\n",
            "Epoch 88/100\n",
            "309/309 - 1s - loss: 0.2724 - accuracy: 0.8863 - 1s/epoch - 3ms/step\n",
            "Epoch 89/100\n",
            "309/309 - 1s - loss: 0.2623 - accuracy: 0.8903 - 1s/epoch - 3ms/step\n",
            "Epoch 90/100\n",
            "309/309 - 1s - loss: 0.2680 - accuracy: 0.8867 - 1s/epoch - 3ms/step\n",
            "Epoch 91/100\n",
            "309/309 - 1s - loss: 0.2716 - accuracy: 0.8865 - 1s/epoch - 3ms/step\n",
            "Epoch 92/100\n",
            "309/309 - 1s - loss: 0.2624 - accuracy: 0.8874 - 1s/epoch - 3ms/step\n",
            "Epoch 93/100\n",
            "309/309 - 1s - loss: 0.2704 - accuracy: 0.8849 - 1s/epoch - 3ms/step\n",
            "Epoch 94/100\n",
            "309/309 - 1s - loss: 0.2676 - accuracy: 0.8857 - 1s/epoch - 3ms/step\n",
            "Epoch 95/100\n",
            "309/309 - 1s - loss: 0.2717 - accuracy: 0.8850 - 1s/epoch - 3ms/step\n",
            "Epoch 96/100\n",
            "309/309 - 1s - loss: 0.2676 - accuracy: 0.8840 - 1s/epoch - 3ms/step\n",
            "Epoch 97/100\n",
            "309/309 - 1s - loss: 0.2672 - accuracy: 0.8877 - 1s/epoch - 3ms/step\n",
            "Epoch 98/100\n",
            "309/309 - 1s - loss: 0.2654 - accuracy: 0.8883 - 1s/epoch - 3ms/step\n",
            "Epoch 99/100\n",
            "309/309 - 1s - loss: 0.2632 - accuracy: 0.8862 - 1s/epoch - 3ms/step\n",
            "Epoch 100/100\n",
            "309/309 - 1s - loss: 0.2659 - accuracy: 0.8917 - 1s/epoch - 3ms/step\n"
          ]
        }
      ]
    },
    {
      "cell_type": "code",
      "metadata": {
        "colab": {
          "base_uri": "https://localhost:8080/"
        },
        "id": "THi1_LG4eoX-",
        "outputId": "d006ce3e-520b-4be6-e2d4-c0cdd9a12846"
      },
      "source": [
        "print(\"Training Accuracy :\", model_nn.evaluate(X_train, y_train, verbose=0)[1])\n",
        "print(\"Testing Accuracy :\", model_nn.evaluate(X_test, y_test, verbose=0)[1])\n",
        "\n",
        "from tensorflow.math import confusion_matrix\n",
        "# confusion matrix\n",
        "disp = confusion_matrix(y_test, y_pred_nn)\n",
        "print(disp)\n",
        "\n",
        "# classification report\n",
        "cr = model_nn.summary()\n",
        "print(cr)"
      ],
      "execution_count": null,
      "outputs": [
        {
          "output_type": "stream",
          "name": "stdout",
          "text": [
            "Training Accuracy : 0.8947688341140747\n",
            "Testing Accuracy : 0.8990267515182495\n",
            "tf.Tensor(\n",
            "[[1992  124]\n",
            " [ 125  225]], shape=(2, 2), dtype=int32)\n",
            "Model: \"sequential\"\n",
            "_________________________________________________________________\n",
            " Layer (type)                Output Shape              Param #   \n",
            "=================================================================\n",
            " dense (Dense)               (None, 64)                1600      \n",
            "                                                                 \n",
            " dropout (Dropout)           (None, 64)                0         \n",
            "                                                                 \n",
            " dense_1 (Dense)             (None, 32)                2080      \n",
            "                                                                 \n",
            " dropout_1 (Dropout)         (None, 32)                0         \n",
            "                                                                 \n",
            " dense_2 (Dense)             (None, 16)                528       \n",
            "                                                                 \n",
            " dropout_2 (Dropout)         (None, 16)                0         \n",
            "                                                                 \n",
            " dense_3 (Dense)             (None, 1)                 17        \n",
            "                                                                 \n",
            "=================================================================\n",
            "Total params: 4,225\n",
            "Trainable params: 4,225\n",
            "Non-trainable params: 0\n",
            "_________________________________________________________________\n",
            "None\n"
          ]
        }
      ]
    }
  ]
}