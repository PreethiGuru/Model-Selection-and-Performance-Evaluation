{
  "nbformat": 4,
  "nbformat_minor": 0,
  "metadata": {
    "colab": {
      "name": "Main_updated.ipynb",
      "provenance": [],
      "collapsed_sections": []
    },
    "kernelspec": {
      "display_name": "Python 3",
      "name": "python3"
    },
    "language_info": {
      "name": "python"
    },
    "accelerator": "TPU"
  },
  "cells": [
    {
      "cell_type": "code",
      "metadata": {
        "colab": {
          "base_uri": "https://localhost:8080/"
        },
        "id": "qwHHc4Q2UwG_",
        "outputId": "441d2064-a641-49ec-db73-ba32f016b6ea"
      },
      "source": [
        "!git clone https://github.com/PreethiGuru/Online-Shoppers-Purchasing-Intention.git"
      ],
      "execution_count": null,
      "outputs": [
        {
          "output_type": "stream",
          "name": "stdout",
          "text": [
            "Cloning into 'Online-Shoppers-Purchasing-Intention'...\n",
            "remote: Enumerating objects: 36, done.\u001b[K\n",
            "remote: Counting objects: 100% (36/36), done.\u001b[K\n",
            "remote: Compressing objects: 100% (34/34), done.\u001b[K\n",
            "remote: Total 36 (delta 13), reused 0 (delta 0), pack-reused 0\u001b[K\n",
            "Unpacking objects: 100% (36/36), done.\n"
          ]
        }
      ]
    },
    {
      "cell_type": "code",
      "metadata": {
        "colab": {
          "base_uri": "https://localhost:8080/"
        },
        "id": "tggE1_gLVZfk",
        "outputId": "3bfe109a-0e61-484c-e5c7-b0631310873d"
      },
      "source": [
        "!pip install sklearn\n",
        "!pip install pandas\n",
        "!pip install numpy\n",
        "!pip install matplotlib"
      ],
      "execution_count": null,
      "outputs": [
        {
          "output_type": "stream",
          "name": "stdout",
          "text": [
            "Requirement already satisfied: sklearn in /usr/local/lib/python3.7/dist-packages (0.0)\n",
            "Requirement already satisfied: scikit-learn in /usr/local/lib/python3.7/dist-packages (from sklearn) (1.0.1)\n",
            "Requirement already satisfied: numpy>=1.14.6 in /usr/local/lib/python3.7/dist-packages (from scikit-learn->sklearn) (1.19.5)\n",
            "Requirement already satisfied: joblib>=0.11 in /usr/local/lib/python3.7/dist-packages (from scikit-learn->sklearn) (1.1.0)\n",
            "Requirement already satisfied: scipy>=1.1.0 in /usr/local/lib/python3.7/dist-packages (from scikit-learn->sklearn) (1.4.1)\n",
            "Requirement already satisfied: threadpoolctl>=2.0.0 in /usr/local/lib/python3.7/dist-packages (from scikit-learn->sklearn) (3.0.0)\n",
            "Requirement already satisfied: pandas in /usr/local/lib/python3.7/dist-packages (1.1.5)\n",
            "Requirement already satisfied: python-dateutil>=2.7.3 in /usr/local/lib/python3.7/dist-packages (from pandas) (2.8.2)\n",
            "Requirement already satisfied: pytz>=2017.2 in /usr/local/lib/python3.7/dist-packages (from pandas) (2018.9)\n",
            "Requirement already satisfied: numpy>=1.15.4 in /usr/local/lib/python3.7/dist-packages (from pandas) (1.19.5)\n",
            "Requirement already satisfied: six>=1.5 in /usr/local/lib/python3.7/dist-packages (from python-dateutil>=2.7.3->pandas) (1.15.0)\n",
            "Requirement already satisfied: numpy in /usr/local/lib/python3.7/dist-packages (1.19.5)\n",
            "Requirement already satisfied: matplotlib in /usr/local/lib/python3.7/dist-packages (3.2.2)\n",
            "Requirement already satisfied: numpy>=1.11 in /usr/local/lib/python3.7/dist-packages (from matplotlib) (1.19.5)\n",
            "Requirement already satisfied: kiwisolver>=1.0.1 in /usr/local/lib/python3.7/dist-packages (from matplotlib) (1.3.2)\n",
            "Requirement already satisfied: pyparsing!=2.0.4,!=2.1.2,!=2.1.6,>=2.0.1 in /usr/local/lib/python3.7/dist-packages (from matplotlib) (3.0.6)\n",
            "Requirement already satisfied: cycler>=0.10 in /usr/local/lib/python3.7/dist-packages (from matplotlib) (0.11.0)\n",
            "Requirement already satisfied: python-dateutil>=2.1 in /usr/local/lib/python3.7/dist-packages (from matplotlib) (2.8.2)\n",
            "Requirement already satisfied: six>=1.5 in /usr/local/lib/python3.7/dist-packages (from python-dateutil>=2.1->matplotlib) (1.15.0)\n"
          ]
        }
      ]
    },
    {
      "cell_type": "code",
      "metadata": {
        "id": "b8k4GZc6Vvnt"
      },
      "source": [
        "import numpy as np\n",
        "import pandas as pd\n",
        "import matplotlib.pyplot as plt\n",
        "import seaborn as sns\n",
        "import plotly as py\n",
        "import plotly.graph_objs as go"
      ],
      "execution_count": null,
      "outputs": []
    },
    {
      "cell_type": "code",
      "metadata": {
        "id": "tZ4glfdyV5Om"
      },
      "source": [
        "# Read our dataset\n",
        "Data = pd.read_csv('/content/Online-Shoppers-Purchasing-Intention/online_shoppers_intention.csv')"
      ],
      "execution_count": null,
      "outputs": []
    },
    {
      "cell_type": "code",
      "metadata": {
        "colab": {
          "base_uri": "https://localhost:8080/",
          "height": 270
        },
        "id": "C0o97i9sV9p9",
        "outputId": "e8dba099-292b-4864-9000-f5384fc3db42"
      },
      "source": [
        "Data.head()"
      ],
      "execution_count": null,
      "outputs": [
        {
          "output_type": "execute_result",
          "data": {
            "text/html": [
              "\n",
              "  <div id=\"df-9f2903a2-85bc-430a-bdf9-7cf8b499c308\">\n",
              "    <div class=\"colab-df-container\">\n",
              "      <div>\n",
              "<style scoped>\n",
              "    .dataframe tbody tr th:only-of-type {\n",
              "        vertical-align: middle;\n",
              "    }\n",
              "\n",
              "    .dataframe tbody tr th {\n",
              "        vertical-align: top;\n",
              "    }\n",
              "\n",
              "    .dataframe thead th {\n",
              "        text-align: right;\n",
              "    }\n",
              "</style>\n",
              "<table border=\"1\" class=\"dataframe\">\n",
              "  <thead>\n",
              "    <tr style=\"text-align: right;\">\n",
              "      <th></th>\n",
              "      <th>Administrative</th>\n",
              "      <th>Administrative_Duration</th>\n",
              "      <th>Informational</th>\n",
              "      <th>Informational_Duration</th>\n",
              "      <th>ProductRelated</th>\n",
              "      <th>ProductRelated_Duration</th>\n",
              "      <th>BounceRates</th>\n",
              "      <th>ExitRates</th>\n",
              "      <th>PageValues</th>\n",
              "      <th>SpecialDay</th>\n",
              "      <th>Month</th>\n",
              "      <th>OperatingSystems</th>\n",
              "      <th>Browser</th>\n",
              "      <th>Region</th>\n",
              "      <th>TrafficType</th>\n",
              "      <th>VisitorType</th>\n",
              "      <th>Weekend</th>\n",
              "      <th>Revenue</th>\n",
              "    </tr>\n",
              "  </thead>\n",
              "  <tbody>\n",
              "    <tr>\n",
              "      <th>0</th>\n",
              "      <td>0</td>\n",
              "      <td>0.0</td>\n",
              "      <td>0</td>\n",
              "      <td>0.0</td>\n",
              "      <td>1</td>\n",
              "      <td>0.000000</td>\n",
              "      <td>0.20</td>\n",
              "      <td>0.20</td>\n",
              "      <td>0.0</td>\n",
              "      <td>0.0</td>\n",
              "      <td>Feb</td>\n",
              "      <td>1</td>\n",
              "      <td>1</td>\n",
              "      <td>1</td>\n",
              "      <td>1</td>\n",
              "      <td>Returning_Visitor</td>\n",
              "      <td>False</td>\n",
              "      <td>False</td>\n",
              "    </tr>\n",
              "    <tr>\n",
              "      <th>1</th>\n",
              "      <td>0</td>\n",
              "      <td>0.0</td>\n",
              "      <td>0</td>\n",
              "      <td>0.0</td>\n",
              "      <td>2</td>\n",
              "      <td>64.000000</td>\n",
              "      <td>0.00</td>\n",
              "      <td>0.10</td>\n",
              "      <td>0.0</td>\n",
              "      <td>0.0</td>\n",
              "      <td>Feb</td>\n",
              "      <td>2</td>\n",
              "      <td>2</td>\n",
              "      <td>1</td>\n",
              "      <td>2</td>\n",
              "      <td>Returning_Visitor</td>\n",
              "      <td>False</td>\n",
              "      <td>False</td>\n",
              "    </tr>\n",
              "    <tr>\n",
              "      <th>2</th>\n",
              "      <td>0</td>\n",
              "      <td>0.0</td>\n",
              "      <td>0</td>\n",
              "      <td>0.0</td>\n",
              "      <td>1</td>\n",
              "      <td>0.000000</td>\n",
              "      <td>0.20</td>\n",
              "      <td>0.20</td>\n",
              "      <td>0.0</td>\n",
              "      <td>0.0</td>\n",
              "      <td>Feb</td>\n",
              "      <td>4</td>\n",
              "      <td>1</td>\n",
              "      <td>9</td>\n",
              "      <td>3</td>\n",
              "      <td>Returning_Visitor</td>\n",
              "      <td>False</td>\n",
              "      <td>False</td>\n",
              "    </tr>\n",
              "    <tr>\n",
              "      <th>3</th>\n",
              "      <td>0</td>\n",
              "      <td>0.0</td>\n",
              "      <td>0</td>\n",
              "      <td>0.0</td>\n",
              "      <td>2</td>\n",
              "      <td>2.666667</td>\n",
              "      <td>0.05</td>\n",
              "      <td>0.14</td>\n",
              "      <td>0.0</td>\n",
              "      <td>0.0</td>\n",
              "      <td>Feb</td>\n",
              "      <td>3</td>\n",
              "      <td>2</td>\n",
              "      <td>2</td>\n",
              "      <td>4</td>\n",
              "      <td>Returning_Visitor</td>\n",
              "      <td>False</td>\n",
              "      <td>False</td>\n",
              "    </tr>\n",
              "    <tr>\n",
              "      <th>4</th>\n",
              "      <td>0</td>\n",
              "      <td>0.0</td>\n",
              "      <td>0</td>\n",
              "      <td>0.0</td>\n",
              "      <td>10</td>\n",
              "      <td>627.500000</td>\n",
              "      <td>0.02</td>\n",
              "      <td>0.05</td>\n",
              "      <td>0.0</td>\n",
              "      <td>0.0</td>\n",
              "      <td>Feb</td>\n",
              "      <td>3</td>\n",
              "      <td>3</td>\n",
              "      <td>1</td>\n",
              "      <td>4</td>\n",
              "      <td>Returning_Visitor</td>\n",
              "      <td>True</td>\n",
              "      <td>False</td>\n",
              "    </tr>\n",
              "  </tbody>\n",
              "</table>\n",
              "</div>\n",
              "      <button class=\"colab-df-convert\" onclick=\"convertToInteractive('df-9f2903a2-85bc-430a-bdf9-7cf8b499c308')\"\n",
              "              title=\"Convert this dataframe to an interactive table.\"\n",
              "              style=\"display:none;\">\n",
              "        \n",
              "  <svg xmlns=\"http://www.w3.org/2000/svg\" height=\"24px\"viewBox=\"0 0 24 24\"\n",
              "       width=\"24px\">\n",
              "    <path d=\"M0 0h24v24H0V0z\" fill=\"none\"/>\n",
              "    <path d=\"M18.56 5.44l.94 2.06.94-2.06 2.06-.94-2.06-.94-.94-2.06-.94 2.06-2.06.94zm-11 1L8.5 8.5l.94-2.06 2.06-.94-2.06-.94L8.5 2.5l-.94 2.06-2.06.94zm10 10l.94 2.06.94-2.06 2.06-.94-2.06-.94-.94-2.06-.94 2.06-2.06.94z\"/><path d=\"M17.41 7.96l-1.37-1.37c-.4-.4-.92-.59-1.43-.59-.52 0-1.04.2-1.43.59L10.3 9.45l-7.72 7.72c-.78.78-.78 2.05 0 2.83L4 21.41c.39.39.9.59 1.41.59.51 0 1.02-.2 1.41-.59l7.78-7.78 2.81-2.81c.8-.78.8-2.07 0-2.86zM5.41 20L4 18.59l7.72-7.72 1.47 1.35L5.41 20z\"/>\n",
              "  </svg>\n",
              "      </button>\n",
              "      \n",
              "  <style>\n",
              "    .colab-df-container {\n",
              "      display:flex;\n",
              "      flex-wrap:wrap;\n",
              "      gap: 12px;\n",
              "    }\n",
              "\n",
              "    .colab-df-convert {\n",
              "      background-color: #E8F0FE;\n",
              "      border: none;\n",
              "      border-radius: 50%;\n",
              "      cursor: pointer;\n",
              "      display: none;\n",
              "      fill: #1967D2;\n",
              "      height: 32px;\n",
              "      padding: 0 0 0 0;\n",
              "      width: 32px;\n",
              "    }\n",
              "\n",
              "    .colab-df-convert:hover {\n",
              "      background-color: #E2EBFA;\n",
              "      box-shadow: 0px 1px 2px rgba(60, 64, 67, 0.3), 0px 1px 3px 1px rgba(60, 64, 67, 0.15);\n",
              "      fill: #174EA6;\n",
              "    }\n",
              "\n",
              "    [theme=dark] .colab-df-convert {\n",
              "      background-color: #3B4455;\n",
              "      fill: #D2E3FC;\n",
              "    }\n",
              "\n",
              "    [theme=dark] .colab-df-convert:hover {\n",
              "      background-color: #434B5C;\n",
              "      box-shadow: 0px 1px 3px 1px rgba(0, 0, 0, 0.15);\n",
              "      filter: drop-shadow(0px 1px 2px rgba(0, 0, 0, 0.3));\n",
              "      fill: #FFFFFF;\n",
              "    }\n",
              "  </style>\n",
              "\n",
              "      <script>\n",
              "        const buttonEl =\n",
              "          document.querySelector('#df-9f2903a2-85bc-430a-bdf9-7cf8b499c308 button.colab-df-convert');\n",
              "        buttonEl.style.display =\n",
              "          google.colab.kernel.accessAllowed ? 'block' : 'none';\n",
              "\n",
              "        async function convertToInteractive(key) {\n",
              "          const element = document.querySelector('#df-9f2903a2-85bc-430a-bdf9-7cf8b499c308');\n",
              "          const dataTable =\n",
              "            await google.colab.kernel.invokeFunction('convertToInteractive',\n",
              "                                                     [key], {});\n",
              "          if (!dataTable) return;\n",
              "\n",
              "          const docLinkHtml = 'Like what you see? Visit the ' +\n",
              "            '<a target=\"_blank\" href=https://colab.research.google.com/notebooks/data_table.ipynb>data table notebook</a>'\n",
              "            + ' to learn more about interactive tables.';\n",
              "          element.innerHTML = '';\n",
              "          dataTable['output_type'] = 'display_data';\n",
              "          await google.colab.output.renderOutput(dataTable, element);\n",
              "          const docLink = document.createElement('div');\n",
              "          docLink.innerHTML = docLinkHtml;\n",
              "          element.appendChild(docLink);\n",
              "        }\n",
              "      </script>\n",
              "    </div>\n",
              "  </div>\n",
              "  "
            ],
            "text/plain": [
              "   Administrative  Administrative_Duration  ...  Weekend  Revenue\n",
              "0               0                      0.0  ...    False    False\n",
              "1               0                      0.0  ...    False    False\n",
              "2               0                      0.0  ...    False    False\n",
              "3               0                      0.0  ...    False    False\n",
              "4               0                      0.0  ...     True    False\n",
              "\n",
              "[5 rows x 18 columns]"
            ]
          },
          "metadata": {},
          "execution_count": 5
        }
      ]
    },
    {
      "cell_type": "code",
      "source": [
        ""
      ],
      "metadata": {
        "id": "3gbnw3pM0nzU"
      },
      "execution_count": null,
      "outputs": []
    },
    {
      "cell_type": "code",
      "source": [
        "Data1= Data[Data['Revenue']==False]\n",
        "Data1 = Data1.loc[1:2000]\n",
        "Data2 = Data[Data['Revenue']==True]\n",
        "frames = [Data1, Data2]\n",
        "Data = pd.concat(frames)\n",
        "Data.describe()"
      ],
      "metadata": {
        "colab": {
          "base_uri": "https://localhost:8080/",
          "height": 364
        },
        "id": "4igrZBYbrPCe",
        "outputId": "d1d5c6df-18bd-4e8f-de60-188b57d18f66"
      },
      "execution_count": null,
      "outputs": [
        {
          "output_type": "execute_result",
          "data": {
            "text/html": [
              "\n",
              "  <div id=\"df-fb083c1a-89ae-4c6b-b9d0-ceed47ec0d13\">\n",
              "    <div class=\"colab-df-container\">\n",
              "      <div>\n",
              "<style scoped>\n",
              "    .dataframe tbody tr th:only-of-type {\n",
              "        vertical-align: middle;\n",
              "    }\n",
              "\n",
              "    .dataframe tbody tr th {\n",
              "        vertical-align: top;\n",
              "    }\n",
              "\n",
              "    .dataframe thead th {\n",
              "        text-align: right;\n",
              "    }\n",
              "</style>\n",
              "<table border=\"1\" class=\"dataframe\">\n",
              "  <thead>\n",
              "    <tr style=\"text-align: right;\">\n",
              "      <th></th>\n",
              "      <th>Administrative</th>\n",
              "      <th>Administrative_Duration</th>\n",
              "      <th>Informational</th>\n",
              "      <th>Informational_Duration</th>\n",
              "      <th>ProductRelated</th>\n",
              "      <th>ProductRelated_Duration</th>\n",
              "      <th>BounceRates</th>\n",
              "      <th>ExitRates</th>\n",
              "      <th>PageValues</th>\n",
              "      <th>SpecialDay</th>\n",
              "      <th>OperatingSystems</th>\n",
              "      <th>Browser</th>\n",
              "      <th>Region</th>\n",
              "      <th>TrafficType</th>\n",
              "    </tr>\n",
              "  </thead>\n",
              "  <tbody>\n",
              "    <tr>\n",
              "      <th>count</th>\n",
              "      <td>3729.000000</td>\n",
              "      <td>3729.000000</td>\n",
              "      <td>3729.000000</td>\n",
              "      <td>3729.000000</td>\n",
              "      <td>3729.000000</td>\n",
              "      <td>3729.000000</td>\n",
              "      <td>3729.000000</td>\n",
              "      <td>3729.000000</td>\n",
              "      <td>3729.000000</td>\n",
              "      <td>3729.000000</td>\n",
              "      <td>3729.000000</td>\n",
              "      <td>3729.000000</td>\n",
              "      <td>3729.000000</td>\n",
              "      <td>3729.000000</td>\n",
              "    </tr>\n",
              "    <tr>\n",
              "      <th>mean</th>\n",
              "      <td>2.504693</td>\n",
              "      <td>90.113182</td>\n",
              "      <td>0.558595</td>\n",
              "      <td>40.493288</td>\n",
              "      <td>33.217485</td>\n",
              "      <td>1305.856409</td>\n",
              "      <td>0.015322</td>\n",
              "      <td>0.034444</td>\n",
              "      <td>14.436025</td>\n",
              "      <td>0.022902</td>\n",
              "      <td>2.083937</td>\n",
              "      <td>2.358541</td>\n",
              "      <td>3.038348</td>\n",
              "      <td>3.577367</td>\n",
              "    </tr>\n",
              "    <tr>\n",
              "      <th>std</th>\n",
              "      <td>3.357706</td>\n",
              "      <td>183.806913</td>\n",
              "      <td>1.334127</td>\n",
              "      <td>144.466966</td>\n",
              "      <td>46.906698</td>\n",
              "      <td>1898.240050</td>\n",
              "      <td>0.042135</td>\n",
              "      <td>0.043280</td>\n",
              "      <td>28.653582</td>\n",
              "      <td>0.120892</td>\n",
              "      <td>0.856797</td>\n",
              "      <td>1.672136</td>\n",
              "      <td>2.368965</td>\n",
              "      <td>3.556485</td>\n",
              "    </tr>\n",
              "    <tr>\n",
              "      <th>min</th>\n",
              "      <td>0.000000</td>\n",
              "      <td>0.000000</td>\n",
              "      <td>0.000000</td>\n",
              "      <td>0.000000</td>\n",
              "      <td>0.000000</td>\n",
              "      <td>0.000000</td>\n",
              "      <td>0.000000</td>\n",
              "      <td>0.000000</td>\n",
              "      <td>0.000000</td>\n",
              "      <td>0.000000</td>\n",
              "      <td>1.000000</td>\n",
              "      <td>1.000000</td>\n",
              "      <td>1.000000</td>\n",
              "      <td>1.000000</td>\n",
              "    </tr>\n",
              "    <tr>\n",
              "      <th>25%</th>\n",
              "      <td>0.000000</td>\n",
              "      <td>0.000000</td>\n",
              "      <td>0.000000</td>\n",
              "      <td>0.000000</td>\n",
              "      <td>8.000000</td>\n",
              "      <td>249.000000</td>\n",
              "      <td>0.000000</td>\n",
              "      <td>0.011111</td>\n",
              "      <td>0.000000</td>\n",
              "      <td>0.000000</td>\n",
              "      <td>2.000000</td>\n",
              "      <td>2.000000</td>\n",
              "      <td>1.000000</td>\n",
              "      <td>2.000000</td>\n",
              "    </tr>\n",
              "    <tr>\n",
              "      <th>50%</th>\n",
              "      <td>1.000000</td>\n",
              "      <td>18.333333</td>\n",
              "      <td>0.000000</td>\n",
              "      <td>0.000000</td>\n",
              "      <td>19.000000</td>\n",
              "      <td>692.622222</td>\n",
              "      <td>0.000000</td>\n",
              "      <td>0.020000</td>\n",
              "      <td>0.000000</td>\n",
              "      <td>0.000000</td>\n",
              "      <td>2.000000</td>\n",
              "      <td>2.000000</td>\n",
              "      <td>2.000000</td>\n",
              "      <td>2.000000</td>\n",
              "    </tr>\n",
              "    <tr>\n",
              "      <th>75%</th>\n",
              "      <td>4.000000</td>\n",
              "      <td>101.500000</td>\n",
              "      <td>0.000000</td>\n",
              "      <td>0.000000</td>\n",
              "      <td>38.000000</td>\n",
              "      <td>1530.248485</td>\n",
              "      <td>0.009091</td>\n",
              "      <td>0.037267</td>\n",
              "      <td>18.503217</td>\n",
              "      <td>0.000000</td>\n",
              "      <td>2.000000</td>\n",
              "      <td>2.000000</td>\n",
              "      <td>4.000000</td>\n",
              "      <td>4.000000</td>\n",
              "    </tr>\n",
              "    <tr>\n",
              "      <th>max</th>\n",
              "      <td>26.000000</td>\n",
              "      <td>2086.750000</td>\n",
              "      <td>16.000000</td>\n",
              "      <td>1767.666667</td>\n",
              "      <td>534.000000</td>\n",
              "      <td>27009.859430</td>\n",
              "      <td>0.200000</td>\n",
              "      <td>0.200000</td>\n",
              "      <td>361.763742</td>\n",
              "      <td>1.000000</td>\n",
              "      <td>8.000000</td>\n",
              "      <td>13.000000</td>\n",
              "      <td>9.000000</td>\n",
              "      <td>20.000000</td>\n",
              "    </tr>\n",
              "  </tbody>\n",
              "</table>\n",
              "</div>\n",
              "      <button class=\"colab-df-convert\" onclick=\"convertToInteractive('df-fb083c1a-89ae-4c6b-b9d0-ceed47ec0d13')\"\n",
              "              title=\"Convert this dataframe to an interactive table.\"\n",
              "              style=\"display:none;\">\n",
              "        \n",
              "  <svg xmlns=\"http://www.w3.org/2000/svg\" height=\"24px\"viewBox=\"0 0 24 24\"\n",
              "       width=\"24px\">\n",
              "    <path d=\"M0 0h24v24H0V0z\" fill=\"none\"/>\n",
              "    <path d=\"M18.56 5.44l.94 2.06.94-2.06 2.06-.94-2.06-.94-.94-2.06-.94 2.06-2.06.94zm-11 1L8.5 8.5l.94-2.06 2.06-.94-2.06-.94L8.5 2.5l-.94 2.06-2.06.94zm10 10l.94 2.06.94-2.06 2.06-.94-2.06-.94-.94-2.06-.94 2.06-2.06.94z\"/><path d=\"M17.41 7.96l-1.37-1.37c-.4-.4-.92-.59-1.43-.59-.52 0-1.04.2-1.43.59L10.3 9.45l-7.72 7.72c-.78.78-.78 2.05 0 2.83L4 21.41c.39.39.9.59 1.41.59.51 0 1.02-.2 1.41-.59l7.78-7.78 2.81-2.81c.8-.78.8-2.07 0-2.86zM5.41 20L4 18.59l7.72-7.72 1.47 1.35L5.41 20z\"/>\n",
              "  </svg>\n",
              "      </button>\n",
              "      \n",
              "  <style>\n",
              "    .colab-df-container {\n",
              "      display:flex;\n",
              "      flex-wrap:wrap;\n",
              "      gap: 12px;\n",
              "    }\n",
              "\n",
              "    .colab-df-convert {\n",
              "      background-color: #E8F0FE;\n",
              "      border: none;\n",
              "      border-radius: 50%;\n",
              "      cursor: pointer;\n",
              "      display: none;\n",
              "      fill: #1967D2;\n",
              "      height: 32px;\n",
              "      padding: 0 0 0 0;\n",
              "      width: 32px;\n",
              "    }\n",
              "\n",
              "    .colab-df-convert:hover {\n",
              "      background-color: #E2EBFA;\n",
              "      box-shadow: 0px 1px 2px rgba(60, 64, 67, 0.3), 0px 1px 3px 1px rgba(60, 64, 67, 0.15);\n",
              "      fill: #174EA6;\n",
              "    }\n",
              "\n",
              "    [theme=dark] .colab-df-convert {\n",
              "      background-color: #3B4455;\n",
              "      fill: #D2E3FC;\n",
              "    }\n",
              "\n",
              "    [theme=dark] .colab-df-convert:hover {\n",
              "      background-color: #434B5C;\n",
              "      box-shadow: 0px 1px 3px 1px rgba(0, 0, 0, 0.15);\n",
              "      filter: drop-shadow(0px 1px 2px rgba(0, 0, 0, 0.3));\n",
              "      fill: #FFFFFF;\n",
              "    }\n",
              "  </style>\n",
              "\n",
              "      <script>\n",
              "        const buttonEl =\n",
              "          document.querySelector('#df-fb083c1a-89ae-4c6b-b9d0-ceed47ec0d13 button.colab-df-convert');\n",
              "        buttonEl.style.display =\n",
              "          google.colab.kernel.accessAllowed ? 'block' : 'none';\n",
              "\n",
              "        async function convertToInteractive(key) {\n",
              "          const element = document.querySelector('#df-fb083c1a-89ae-4c6b-b9d0-ceed47ec0d13');\n",
              "          const dataTable =\n",
              "            await google.colab.kernel.invokeFunction('convertToInteractive',\n",
              "                                                     [key], {});\n",
              "          if (!dataTable) return;\n",
              "\n",
              "          const docLinkHtml = 'Like what you see? Visit the ' +\n",
              "            '<a target=\"_blank\" href=https://colab.research.google.com/notebooks/data_table.ipynb>data table notebook</a>'\n",
              "            + ' to learn more about interactive tables.';\n",
              "          element.innerHTML = '';\n",
              "          dataTable['output_type'] = 'display_data';\n",
              "          await google.colab.output.renderOutput(dataTable, element);\n",
              "          const docLink = document.createElement('div');\n",
              "          docLink.innerHTML = docLinkHtml;\n",
              "          element.appendChild(docLink);\n",
              "        }\n",
              "      </script>\n",
              "    </div>\n",
              "  </div>\n",
              "  "
            ],
            "text/plain": [
              "       Administrative  Administrative_Duration  ...       Region  TrafficType\n",
              "count     3729.000000              3729.000000  ...  3729.000000  3729.000000\n",
              "mean         2.504693                90.113182  ...     3.038348     3.577367\n",
              "std          3.357706               183.806913  ...     2.368965     3.556485\n",
              "min          0.000000                 0.000000  ...     1.000000     1.000000\n",
              "25%          0.000000                 0.000000  ...     1.000000     2.000000\n",
              "50%          1.000000                18.333333  ...     2.000000     2.000000\n",
              "75%          4.000000               101.500000  ...     4.000000     4.000000\n",
              "max         26.000000              2086.750000  ...     9.000000    20.000000\n",
              "\n",
              "[8 rows x 14 columns]"
            ]
          },
          "metadata": {},
          "execution_count": 6
        }
      ]
    },
    {
      "cell_type": "code",
      "metadata": {
        "colab": {
          "base_uri": "https://localhost:8080/",
          "height": 364
        },
        "id": "QL7i8heIWSe-",
        "outputId": "aaa6cf71-8c78-4186-cfe2-5686896575d1"
      },
      "source": [
        "Data.describe()"
      ],
      "execution_count": null,
      "outputs": [
        {
          "output_type": "execute_result",
          "data": {
            "text/html": [
              "\n",
              "  <div id=\"df-d9cea553-9c92-4841-8444-5c8e63b18320\">\n",
              "    <div class=\"colab-df-container\">\n",
              "      <div>\n",
              "<style scoped>\n",
              "    .dataframe tbody tr th:only-of-type {\n",
              "        vertical-align: middle;\n",
              "    }\n",
              "\n",
              "    .dataframe tbody tr th {\n",
              "        vertical-align: top;\n",
              "    }\n",
              "\n",
              "    .dataframe thead th {\n",
              "        text-align: right;\n",
              "    }\n",
              "</style>\n",
              "<table border=\"1\" class=\"dataframe\">\n",
              "  <thead>\n",
              "    <tr style=\"text-align: right;\">\n",
              "      <th></th>\n",
              "      <th>Administrative</th>\n",
              "      <th>Administrative_Duration</th>\n",
              "      <th>Informational</th>\n",
              "      <th>Informational_Duration</th>\n",
              "      <th>ProductRelated</th>\n",
              "      <th>ProductRelated_Duration</th>\n",
              "      <th>BounceRates</th>\n",
              "      <th>ExitRates</th>\n",
              "      <th>PageValues</th>\n",
              "      <th>SpecialDay</th>\n",
              "      <th>OperatingSystems</th>\n",
              "      <th>Browser</th>\n",
              "      <th>Region</th>\n",
              "      <th>TrafficType</th>\n",
              "    </tr>\n",
              "  </thead>\n",
              "  <tbody>\n",
              "    <tr>\n",
              "      <th>count</th>\n",
              "      <td>3729.000000</td>\n",
              "      <td>3729.000000</td>\n",
              "      <td>3729.000000</td>\n",
              "      <td>3729.000000</td>\n",
              "      <td>3729.000000</td>\n",
              "      <td>3729.000000</td>\n",
              "      <td>3729.000000</td>\n",
              "      <td>3729.000000</td>\n",
              "      <td>3729.000000</td>\n",
              "      <td>3729.000000</td>\n",
              "      <td>3729.000000</td>\n",
              "      <td>3729.000000</td>\n",
              "      <td>3729.000000</td>\n",
              "      <td>3729.000000</td>\n",
              "    </tr>\n",
              "    <tr>\n",
              "      <th>mean</th>\n",
              "      <td>2.504693</td>\n",
              "      <td>90.113182</td>\n",
              "      <td>0.558595</td>\n",
              "      <td>40.493288</td>\n",
              "      <td>33.217485</td>\n",
              "      <td>1305.856409</td>\n",
              "      <td>0.015322</td>\n",
              "      <td>0.034444</td>\n",
              "      <td>14.436025</td>\n",
              "      <td>0.022902</td>\n",
              "      <td>2.083937</td>\n",
              "      <td>2.358541</td>\n",
              "      <td>3.038348</td>\n",
              "      <td>3.577367</td>\n",
              "    </tr>\n",
              "    <tr>\n",
              "      <th>std</th>\n",
              "      <td>3.357706</td>\n",
              "      <td>183.806913</td>\n",
              "      <td>1.334127</td>\n",
              "      <td>144.466966</td>\n",
              "      <td>46.906698</td>\n",
              "      <td>1898.240050</td>\n",
              "      <td>0.042135</td>\n",
              "      <td>0.043280</td>\n",
              "      <td>28.653582</td>\n",
              "      <td>0.120892</td>\n",
              "      <td>0.856797</td>\n",
              "      <td>1.672136</td>\n",
              "      <td>2.368965</td>\n",
              "      <td>3.556485</td>\n",
              "    </tr>\n",
              "    <tr>\n",
              "      <th>min</th>\n",
              "      <td>0.000000</td>\n",
              "      <td>0.000000</td>\n",
              "      <td>0.000000</td>\n",
              "      <td>0.000000</td>\n",
              "      <td>0.000000</td>\n",
              "      <td>0.000000</td>\n",
              "      <td>0.000000</td>\n",
              "      <td>0.000000</td>\n",
              "      <td>0.000000</td>\n",
              "      <td>0.000000</td>\n",
              "      <td>1.000000</td>\n",
              "      <td>1.000000</td>\n",
              "      <td>1.000000</td>\n",
              "      <td>1.000000</td>\n",
              "    </tr>\n",
              "    <tr>\n",
              "      <th>25%</th>\n",
              "      <td>0.000000</td>\n",
              "      <td>0.000000</td>\n",
              "      <td>0.000000</td>\n",
              "      <td>0.000000</td>\n",
              "      <td>8.000000</td>\n",
              "      <td>249.000000</td>\n",
              "      <td>0.000000</td>\n",
              "      <td>0.011111</td>\n",
              "      <td>0.000000</td>\n",
              "      <td>0.000000</td>\n",
              "      <td>2.000000</td>\n",
              "      <td>2.000000</td>\n",
              "      <td>1.000000</td>\n",
              "      <td>2.000000</td>\n",
              "    </tr>\n",
              "    <tr>\n",
              "      <th>50%</th>\n",
              "      <td>1.000000</td>\n",
              "      <td>18.333333</td>\n",
              "      <td>0.000000</td>\n",
              "      <td>0.000000</td>\n",
              "      <td>19.000000</td>\n",
              "      <td>692.622222</td>\n",
              "      <td>0.000000</td>\n",
              "      <td>0.020000</td>\n",
              "      <td>0.000000</td>\n",
              "      <td>0.000000</td>\n",
              "      <td>2.000000</td>\n",
              "      <td>2.000000</td>\n",
              "      <td>2.000000</td>\n",
              "      <td>2.000000</td>\n",
              "    </tr>\n",
              "    <tr>\n",
              "      <th>75%</th>\n",
              "      <td>4.000000</td>\n",
              "      <td>101.500000</td>\n",
              "      <td>0.000000</td>\n",
              "      <td>0.000000</td>\n",
              "      <td>38.000000</td>\n",
              "      <td>1530.248485</td>\n",
              "      <td>0.009091</td>\n",
              "      <td>0.037267</td>\n",
              "      <td>18.503217</td>\n",
              "      <td>0.000000</td>\n",
              "      <td>2.000000</td>\n",
              "      <td>2.000000</td>\n",
              "      <td>4.000000</td>\n",
              "      <td>4.000000</td>\n",
              "    </tr>\n",
              "    <tr>\n",
              "      <th>max</th>\n",
              "      <td>26.000000</td>\n",
              "      <td>2086.750000</td>\n",
              "      <td>16.000000</td>\n",
              "      <td>1767.666667</td>\n",
              "      <td>534.000000</td>\n",
              "      <td>27009.859430</td>\n",
              "      <td>0.200000</td>\n",
              "      <td>0.200000</td>\n",
              "      <td>361.763742</td>\n",
              "      <td>1.000000</td>\n",
              "      <td>8.000000</td>\n",
              "      <td>13.000000</td>\n",
              "      <td>9.000000</td>\n",
              "      <td>20.000000</td>\n",
              "    </tr>\n",
              "  </tbody>\n",
              "</table>\n",
              "</div>\n",
              "      <button class=\"colab-df-convert\" onclick=\"convertToInteractive('df-d9cea553-9c92-4841-8444-5c8e63b18320')\"\n",
              "              title=\"Convert this dataframe to an interactive table.\"\n",
              "              style=\"display:none;\">\n",
              "        \n",
              "  <svg xmlns=\"http://www.w3.org/2000/svg\" height=\"24px\"viewBox=\"0 0 24 24\"\n",
              "       width=\"24px\">\n",
              "    <path d=\"M0 0h24v24H0V0z\" fill=\"none\"/>\n",
              "    <path d=\"M18.56 5.44l.94 2.06.94-2.06 2.06-.94-2.06-.94-.94-2.06-.94 2.06-2.06.94zm-11 1L8.5 8.5l.94-2.06 2.06-.94-2.06-.94L8.5 2.5l-.94 2.06-2.06.94zm10 10l.94 2.06.94-2.06 2.06-.94-2.06-.94-.94-2.06-.94 2.06-2.06.94z\"/><path d=\"M17.41 7.96l-1.37-1.37c-.4-.4-.92-.59-1.43-.59-.52 0-1.04.2-1.43.59L10.3 9.45l-7.72 7.72c-.78.78-.78 2.05 0 2.83L4 21.41c.39.39.9.59 1.41.59.51 0 1.02-.2 1.41-.59l7.78-7.78 2.81-2.81c.8-.78.8-2.07 0-2.86zM5.41 20L4 18.59l7.72-7.72 1.47 1.35L5.41 20z\"/>\n",
              "  </svg>\n",
              "      </button>\n",
              "      \n",
              "  <style>\n",
              "    .colab-df-container {\n",
              "      display:flex;\n",
              "      flex-wrap:wrap;\n",
              "      gap: 12px;\n",
              "    }\n",
              "\n",
              "    .colab-df-convert {\n",
              "      background-color: #E8F0FE;\n",
              "      border: none;\n",
              "      border-radius: 50%;\n",
              "      cursor: pointer;\n",
              "      display: none;\n",
              "      fill: #1967D2;\n",
              "      height: 32px;\n",
              "      padding: 0 0 0 0;\n",
              "      width: 32px;\n",
              "    }\n",
              "\n",
              "    .colab-df-convert:hover {\n",
              "      background-color: #E2EBFA;\n",
              "      box-shadow: 0px 1px 2px rgba(60, 64, 67, 0.3), 0px 1px 3px 1px rgba(60, 64, 67, 0.15);\n",
              "      fill: #174EA6;\n",
              "    }\n",
              "\n",
              "    [theme=dark] .colab-df-convert {\n",
              "      background-color: #3B4455;\n",
              "      fill: #D2E3FC;\n",
              "    }\n",
              "\n",
              "    [theme=dark] .colab-df-convert:hover {\n",
              "      background-color: #434B5C;\n",
              "      box-shadow: 0px 1px 3px 1px rgba(0, 0, 0, 0.15);\n",
              "      filter: drop-shadow(0px 1px 2px rgba(0, 0, 0, 0.3));\n",
              "      fill: #FFFFFF;\n",
              "    }\n",
              "  </style>\n",
              "\n",
              "      <script>\n",
              "        const buttonEl =\n",
              "          document.querySelector('#df-d9cea553-9c92-4841-8444-5c8e63b18320 button.colab-df-convert');\n",
              "        buttonEl.style.display =\n",
              "          google.colab.kernel.accessAllowed ? 'block' : 'none';\n",
              "\n",
              "        async function convertToInteractive(key) {\n",
              "          const element = document.querySelector('#df-d9cea553-9c92-4841-8444-5c8e63b18320');\n",
              "          const dataTable =\n",
              "            await google.colab.kernel.invokeFunction('convertToInteractive',\n",
              "                                                     [key], {});\n",
              "          if (!dataTable) return;\n",
              "\n",
              "          const docLinkHtml = 'Like what you see? Visit the ' +\n",
              "            '<a target=\"_blank\" href=https://colab.research.google.com/notebooks/data_table.ipynb>data table notebook</a>'\n",
              "            + ' to learn more about interactive tables.';\n",
              "          element.innerHTML = '';\n",
              "          dataTable['output_type'] = 'display_data';\n",
              "          await google.colab.output.renderOutput(dataTable, element);\n",
              "          const docLink = document.createElement('div');\n",
              "          docLink.innerHTML = docLinkHtml;\n",
              "          element.appendChild(docLink);\n",
              "        }\n",
              "      </script>\n",
              "    </div>\n",
              "  </div>\n",
              "  "
            ],
            "text/plain": [
              "       Administrative  Administrative_Duration  ...       Region  TrafficType\n",
              "count     3729.000000              3729.000000  ...  3729.000000  3729.000000\n",
              "mean         2.504693                90.113182  ...     3.038348     3.577367\n",
              "std          3.357706               183.806913  ...     2.368965     3.556485\n",
              "min          0.000000                 0.000000  ...     1.000000     1.000000\n",
              "25%          0.000000                 0.000000  ...     1.000000     2.000000\n",
              "50%          1.000000                18.333333  ...     2.000000     2.000000\n",
              "75%          4.000000               101.500000  ...     4.000000     4.000000\n",
              "max         26.000000              2086.750000  ...     9.000000    20.000000\n",
              "\n",
              "[8 rows x 14 columns]"
            ]
          },
          "metadata": {},
          "execution_count": 7
        }
      ]
    },
    {
      "cell_type": "code",
      "metadata": {
        "colab": {
          "base_uri": "https://localhost:8080/"
        },
        "id": "aAMql5bMWi6N",
        "outputId": "2f52aa75-0c21-4993-8cb5-09012fefb8a4"
      },
      "source": [
        "# Data Preprocessing\n",
        "Data.isnull().sum()\n"
      ],
      "execution_count": null,
      "outputs": [
        {
          "output_type": "execute_result",
          "data": {
            "text/plain": [
              "Administrative             0\n",
              "Administrative_Duration    0\n",
              "Informational              0\n",
              "Informational_Duration     0\n",
              "ProductRelated             0\n",
              "ProductRelated_Duration    0\n",
              "BounceRates                0\n",
              "ExitRates                  0\n",
              "PageValues                 0\n",
              "SpecialDay                 0\n",
              "Month                      0\n",
              "OperatingSystems           0\n",
              "Browser                    0\n",
              "Region                     0\n",
              "TrafficType                0\n",
              "VisitorType                0\n",
              "Weekend                    0\n",
              "Revenue                    0\n",
              "dtype: int64"
            ]
          },
          "metadata": {},
          "execution_count": 8
        }
      ]
    },
    {
      "cell_type": "code",
      "metadata": {
        "colab": {
          "base_uri": "https://localhost:8080/"
        },
        "id": "HtBtLsOpWpOt",
        "outputId": "c8ef0bf0-d5c2-487c-87b5-41282e9f2a73"
      },
      "source": [
        "Data.dtypes"
      ],
      "execution_count": null,
      "outputs": [
        {
          "output_type": "execute_result",
          "data": {
            "text/plain": [
              "Administrative               int64\n",
              "Administrative_Duration    float64\n",
              "Informational                int64\n",
              "Informational_Duration     float64\n",
              "ProductRelated               int64\n",
              "ProductRelated_Duration    float64\n",
              "BounceRates                float64\n",
              "ExitRates                  float64\n",
              "PageValues                 float64\n",
              "SpecialDay                 float64\n",
              "Month                       object\n",
              "OperatingSystems             int64\n",
              "Browser                      int64\n",
              "Region                       int64\n",
              "TrafficType                  int64\n",
              "VisitorType                 object\n",
              "Weekend                       bool\n",
              "Revenue                       bool\n",
              "dtype: object"
            ]
          },
          "metadata": {},
          "execution_count": 9
        }
      ]
    },
    {
      "cell_type": "code",
      "source": [
        "plt.figure(figsize=(15,4))\n",
        "f_cor = Data.corr()\n",
        "sns.heatmap(f_cor,cmap= \"Blues_r\")"
      ],
      "metadata": {
        "colab": {
          "base_uri": "https://localhost:8080/",
          "height": 402
        },
        "id": "FCNxGsot3OK_",
        "outputId": "5cc8e28f-9975-4aba-dcba-54d9b2b2c7b0"
      },
      "execution_count": null,
      "outputs": [
        {
          "output_type": "execute_result",
          "data": {
            "text/plain": [
              "<matplotlib.axes._subplots.AxesSubplot at 0x7fe2d98b84d0>"
            ]
          },
          "metadata": {},
          "execution_count": 10
        },
        {
          "output_type": "display_data",
          "data": {
            "image/png": "[encoded data removed]",
            "text/plain": [
              "<Figure size 1080x288 with 2 Axes>"
            ]
          },
          "metadata": {
            "needs_background": "light"
          }
        }
      ]
    },
    {
      "cell_type": "code",
      "metadata": {
        "_kg_hide-input": true,
        "id": "57T_nocr6azz",
        "trusted": true,
        "colab": {
          "base_uri": "https://localhost:8080/",
          "height": 621
        },
        "outputId": "93468b78-f5b6-4ec6-e23b-ac6aaea3ee09"
      },
      "source": [
        "# Checking the distribution of customers on Revenue\n",
        "\n",
        "plt.rcParams['figure.figsize'] = (10, 8)\n",
        "\n",
        "sns.countplot(Data['Revenue'], palette = 'pastel')\n",
        "plt.title('Was something bought?', fontsize = 30)\n",
        "plt.xlabel('Revenue or not', fontsize = 15)\n",
        "plt.ylabel('count', fontsize = 15)\n",
        "plt.show()"
      ],
      "execution_count": null,
      "outputs": [
        {
          "output_type": "stream",
          "name": "stderr",
          "text": [
            "/usr/local/lib/python3.7/dist-packages/seaborn/_decorators.py:43: FutureWarning:\n",
            "\n",
            "Pass the following variable as a keyword arg: x. From version 0.12, the only valid positional argument will be `data`, and passing other arguments without an explicit keyword will result in an error or misinterpretation.\n",
            "\n"
          ]
        },
        {
          "output_type": "display_data",
          "data": {
            "image/png": "[encoded data removed]",
            "text/plain": [
              "<Figure size 720x576 with 1 Axes>"
            ]
          },
          "metadata": {
            "needs_background": "light"
          }
        }
      ]
    },
    {
      "cell_type": "code",
      "metadata": {
        "id": "lqQIeiKKYcAV",
        "colab": {
          "base_uri": "https://localhost:8080/"
        },
        "outputId": "22a09b1d-dd55-4e7d-c5e5-2a5bcd9fa270"
      },
      "source": [
        "y = Data[\"Revenue\"]\n",
        "X = pd.get_dummies(Data)\n",
        "X.columns"
      ],
      "execution_count": null,
      "outputs": [
        {
          "output_type": "execute_result",
          "data": {
            "text/plain": [
              "Index(['Administrative', 'Administrative_Duration', 'Informational',\n",
              "       'Informational_Duration', 'ProductRelated', 'ProductRelated_Duration',\n",
              "       'BounceRates', 'ExitRates', 'PageValues', 'SpecialDay',\n",
              "       'OperatingSystems', 'Browser', 'Region', 'TrafficType', 'Weekend',\n",
              "       'Revenue', 'Month_Aug', 'Month_Dec', 'Month_Feb', 'Month_Jul',\n",
              "       'Month_June', 'Month_Mar', 'Month_May', 'Month_Nov', 'Month_Oct',\n",
              "       'Month_Sep', 'VisitorType_New_Visitor', 'VisitorType_Other',\n",
              "       'VisitorType_Returning_Visitor'],\n",
              "      dtype='object')"
            ]
          },
          "metadata": {},
          "execution_count": 12
        }
      ]
    },
    {
      "cell_type": "code",
      "metadata": {
        "colab": {
          "base_uri": "https://localhost:8080/"
        },
        "id": "-R-VNYZNYu1T",
        "outputId": "318396c3-2571-40eb-a3cf-3dd2e37ed930"
      },
      "source": [
        "from sklearn.preprocessing import LabelEncoder\n",
        "\n",
        "le = LabelEncoder()\n",
        "Data['Revenue'] = le.fit_transform(Data['Revenue'])\n",
        "Data['Revenue'].value_counts()"
      ],
      "execution_count": null,
      "outputs": [
        {
          "output_type": "execute_result",
          "data": {
            "text/plain": [
              "1    1908\n",
              "0    1821\n",
              "Name: Revenue, dtype: int64"
            ]
          },
          "metadata": {},
          "execution_count": 13
        }
      ]
    },
    {
      "cell_type": "code",
      "source": [
        "X.head()"
      ],
      "metadata": {
        "colab": {
          "base_uri": "https://localhost:8080/",
          "height": 270
        },
        "id": "OYvjcaZcxufr",
        "outputId": "99b710bf-3947-43a8-9360-31070cd57619"
      },
      "execution_count": null,
      "outputs": [
        {
          "output_type": "execute_result",
          "data": {
            "text/html": [
              "\n",
              "  <div id=\"df-274acda5-4bd8-4482-b09f-7e602437568b\">\n",
              "    <div class=\"colab-df-container\">\n",
              "      <div>\n",
              "<style scoped>\n",
              "    .dataframe tbody tr th:only-of-type {\n",
              "        vertical-align: middle;\n",
              "    }\n",
              "\n",
              "    .dataframe tbody tr th {\n",
              "        vertical-align: top;\n",
              "    }\n",
              "\n",
              "    .dataframe thead th {\n",
              "        text-align: right;\n",
              "    }\n",
              "</style>\n",
              "<table border=\"1\" class=\"dataframe\">\n",
              "  <thead>\n",
              "    <tr style=\"text-align: right;\">\n",
              "      <th></th>\n",
              "      <th>Administrative</th>\n",
              "      <th>Administrative_Duration</th>\n",
              "      <th>Informational</th>\n",
              "      <th>Informational_Duration</th>\n",
              "      <th>ProductRelated</th>\n",
              "      <th>ProductRelated_Duration</th>\n",
              "      <th>BounceRates</th>\n",
              "      <th>ExitRates</th>\n",
              "      <th>PageValues</th>\n",
              "      <th>SpecialDay</th>\n",
              "      <th>OperatingSystems</th>\n",
              "      <th>Browser</th>\n",
              "      <th>Region</th>\n",
              "      <th>TrafficType</th>\n",
              "      <th>Weekend</th>\n",
              "      <th>Revenue</th>\n",
              "      <th>Month_Aug</th>\n",
              "      <th>Month_Dec</th>\n",
              "      <th>Month_Feb</th>\n",
              "      <th>Month_Jul</th>\n",
              "      <th>Month_June</th>\n",
              "      <th>Month_Mar</th>\n",
              "      <th>Month_May</th>\n",
              "      <th>Month_Nov</th>\n",
              "      <th>Month_Oct</th>\n",
              "      <th>Month_Sep</th>\n",
              "      <th>VisitorType_New_Visitor</th>\n",
              "      <th>VisitorType_Other</th>\n",
              "      <th>VisitorType_Returning_Visitor</th>\n",
              "    </tr>\n",
              "  </thead>\n",
              "  <tbody>\n",
              "    <tr>\n",
              "      <th>1</th>\n",
              "      <td>0</td>\n",
              "      <td>0.0</td>\n",
              "      <td>0</td>\n",
              "      <td>0.0</td>\n",
              "      <td>2</td>\n",
              "      <td>64.000000</td>\n",
              "      <td>0.000000</td>\n",
              "      <td>0.100000</td>\n",
              "      <td>0.0</td>\n",
              "      <td>0.0</td>\n",
              "      <td>2</td>\n",
              "      <td>2</td>\n",
              "      <td>1</td>\n",
              "      <td>2</td>\n",
              "      <td>False</td>\n",
              "      <td>False</td>\n",
              "      <td>0</td>\n",
              "      <td>0</td>\n",
              "      <td>1</td>\n",
              "      <td>0</td>\n",
              "      <td>0</td>\n",
              "      <td>0</td>\n",
              "      <td>0</td>\n",
              "      <td>0</td>\n",
              "      <td>0</td>\n",
              "      <td>0</td>\n",
              "      <td>0</td>\n",
              "      <td>0</td>\n",
              "      <td>1</td>\n",
              "    </tr>\n",
              "    <tr>\n",
              "      <th>2</th>\n",
              "      <td>0</td>\n",
              "      <td>0.0</td>\n",
              "      <td>0</td>\n",
              "      <td>0.0</td>\n",
              "      <td>1</td>\n",
              "      <td>0.000000</td>\n",
              "      <td>0.200000</td>\n",
              "      <td>0.200000</td>\n",
              "      <td>0.0</td>\n",
              "      <td>0.0</td>\n",
              "      <td>4</td>\n",
              "      <td>1</td>\n",
              "      <td>9</td>\n",
              "      <td>3</td>\n",
              "      <td>False</td>\n",
              "      <td>False</td>\n",
              "      <td>0</td>\n",
              "      <td>0</td>\n",
              "      <td>1</td>\n",
              "      <td>0</td>\n",
              "      <td>0</td>\n",
              "      <td>0</td>\n",
              "      <td>0</td>\n",
              "      <td>0</td>\n",
              "      <td>0</td>\n",
              "      <td>0</td>\n",
              "      <td>0</td>\n",
              "      <td>0</td>\n",
              "      <td>1</td>\n",
              "    </tr>\n",
              "    <tr>\n",
              "      <th>3</th>\n",
              "      <td>0</td>\n",
              "      <td>0.0</td>\n",
              "      <td>0</td>\n",
              "      <td>0.0</td>\n",
              "      <td>2</td>\n",
              "      <td>2.666667</td>\n",
              "      <td>0.050000</td>\n",
              "      <td>0.140000</td>\n",
              "      <td>0.0</td>\n",
              "      <td>0.0</td>\n",
              "      <td>3</td>\n",
              "      <td>2</td>\n",
              "      <td>2</td>\n",
              "      <td>4</td>\n",
              "      <td>False</td>\n",
              "      <td>False</td>\n",
              "      <td>0</td>\n",
              "      <td>0</td>\n",
              "      <td>1</td>\n",
              "      <td>0</td>\n",
              "      <td>0</td>\n",
              "      <td>0</td>\n",
              "      <td>0</td>\n",
              "      <td>0</td>\n",
              "      <td>0</td>\n",
              "      <td>0</td>\n",
              "      <td>0</td>\n",
              "      <td>0</td>\n",
              "      <td>1</td>\n",
              "    </tr>\n",
              "    <tr>\n",
              "      <th>4</th>\n",
              "      <td>0</td>\n",
              "      <td>0.0</td>\n",
              "      <td>0</td>\n",
              "      <td>0.0</td>\n",
              "      <td>10</td>\n",
              "      <td>627.500000</td>\n",
              "      <td>0.020000</td>\n",
              "      <td>0.050000</td>\n",
              "      <td>0.0</td>\n",
              "      <td>0.0</td>\n",
              "      <td>3</td>\n",
              "      <td>3</td>\n",
              "      <td>1</td>\n",
              "      <td>4</td>\n",
              "      <td>True</td>\n",
              "      <td>False</td>\n",
              "      <td>0</td>\n",
              "      <td>0</td>\n",
              "      <td>1</td>\n",
              "      <td>0</td>\n",
              "      <td>0</td>\n",
              "      <td>0</td>\n",
              "      <td>0</td>\n",
              "      <td>0</td>\n",
              "      <td>0</td>\n",
              "      <td>0</td>\n",
              "      <td>0</td>\n",
              "      <td>0</td>\n",
              "      <td>1</td>\n",
              "    </tr>\n",
              "    <tr>\n",
              "      <th>5</th>\n",
              "      <td>0</td>\n",
              "      <td>0.0</td>\n",
              "      <td>0</td>\n",
              "      <td>0.0</td>\n",
              "      <td>19</td>\n",
              "      <td>154.216667</td>\n",
              "      <td>0.015789</td>\n",
              "      <td>0.024561</td>\n",
              "      <td>0.0</td>\n",
              "      <td>0.0</td>\n",
              "      <td>2</td>\n",
              "      <td>2</td>\n",
              "      <td>1</td>\n",
              "      <td>3</td>\n",
              "      <td>False</td>\n",
              "      <td>False</td>\n",
              "      <td>0</td>\n",
              "      <td>0</td>\n",
              "      <td>1</td>\n",
              "      <td>0</td>\n",
              "      <td>0</td>\n",
              "      <td>0</td>\n",
              "      <td>0</td>\n",
              "      <td>0</td>\n",
              "      <td>0</td>\n",
              "      <td>0</td>\n",
              "      <td>0</td>\n",
              "      <td>0</td>\n",
              "      <td>1</td>\n",
              "    </tr>\n",
              "  </tbody>\n",
              "</table>\n",
              "</div>\n",
              "      <button class=\"colab-df-convert\" onclick=\"convertToInteractive('df-274acda5-4bd8-4482-b09f-7e602437568b')\"\n",
              "              title=\"Convert this dataframe to an interactive table.\"\n",
              "              style=\"display:none;\">\n",
              "        \n",
              "  <svg xmlns=\"http://www.w3.org/2000/svg\" height=\"24px\"viewBox=\"0 0 24 24\"\n",
              "       width=\"24px\">\n",
              "    <path d=\"M0 0h24v24H0V0z\" fill=\"none\"/>\n",
              "    <path d=\"M18.56 5.44l.94 2.06.94-2.06 2.06-.94-2.06-.94-.94-2.06-.94 2.06-2.06.94zm-11 1L8.5 8.5l.94-2.06 2.06-.94-2.06-.94L8.5 2.5l-.94 2.06-2.06.94zm10 10l.94 2.06.94-2.06 2.06-.94-2.06-.94-.94-2.06-.94 2.06-2.06.94z\"/><path d=\"M17.41 7.96l-1.37-1.37c-.4-.4-.92-.59-1.43-.59-.52 0-1.04.2-1.43.59L10.3 9.45l-7.72 7.72c-.78.78-.78 2.05 0 2.83L4 21.41c.39.39.9.59 1.41.59.51 0 1.02-.2 1.41-.59l7.78-7.78 2.81-2.81c.8-.78.8-2.07 0-2.86zM5.41 20L4 18.59l7.72-7.72 1.47 1.35L5.41 20z\"/>\n",
              "  </svg>\n",
              "      </button>\n",
              "      \n",
              "  <style>\n",
              "    .colab-df-container {\n",
              "      display:flex;\n",
              "      flex-wrap:wrap;\n",
              "      gap: 12px;\n",
              "    }\n",
              "\n",
              "    .colab-df-convert {\n",
              "      background-color: #E8F0FE;\n",
              "      border: none;\n",
              "      border-radius: 50%;\n",
              "      cursor: pointer;\n",
              "      display: none;\n",
              "      fill: #1967D2;\n",
              "      height: 32px;\n",
              "      padding: 0 0 0 0;\n",
              "      width: 32px;\n",
              "    }\n",
              "\n",
              "    .colab-df-convert:hover {\n",
              "      background-color: #E2EBFA;\n",
              "      box-shadow: 0px 1px 2px rgba(60, 64, 67, 0.3), 0px 1px 3px 1px rgba(60, 64, 67, 0.15);\n",
              "      fill: #174EA6;\n",
              "    }\n",
              "\n",
              "    [theme=dark] .colab-df-convert {\n",
              "      background-color: #3B4455;\n",
              "      fill: #D2E3FC;\n",
              "    }\n",
              "\n",
              "    [theme=dark] .colab-df-convert:hover {\n",
              "      background-color: #434B5C;\n",
              "      box-shadow: 0px 1px 3px 1px rgba(0, 0, 0, 0.15);\n",
              "      filter: drop-shadow(0px 1px 2px rgba(0, 0, 0, 0.3));\n",
              "      fill: #FFFFFF;\n",
              "    }\n",
              "  </style>\n",
              "\n",
              "      <script>\n",
              "        const buttonEl =\n",
              "          document.querySelector('#df-274acda5-4bd8-4482-b09f-7e602437568b button.colab-df-convert');\n",
              "        buttonEl.style.display =\n",
              "          google.colab.kernel.accessAllowed ? 'block' : 'none';\n",
              "\n",
              "        async function convertToInteractive(key) {\n",
              "          const element = document.querySelector('#df-274acda5-4bd8-4482-b09f-7e602437568b');\n",
              "          const dataTable =\n",
              "            await google.colab.kernel.invokeFunction('convertToInteractive',\n",
              "                                                     [key], {});\n",
              "          if (!dataTable) return;\n",
              "\n",
              "          const docLinkHtml = 'Like what you see? Visit the ' +\n",
              "            '<a target=\"_blank\" href=https://colab.research.google.com/notebooks/data_table.ipynb>data table notebook</a>'\n",
              "            + ' to learn more about interactive tables.';\n",
              "          element.innerHTML = '';\n",
              "          dataTable['output_type'] = 'display_data';\n",
              "          await google.colab.output.renderOutput(dataTable, element);\n",
              "          const docLink = document.createElement('div');\n",
              "          docLink.innerHTML = docLinkHtml;\n",
              "          element.appendChild(docLink);\n",
              "        }\n",
              "      </script>\n",
              "    </div>\n",
              "  </div>\n",
              "  "
            ],
            "text/plain": [
              "   Administrative  ...  VisitorType_Returning_Visitor\n",
              "1               0  ...                              1\n",
              "2               0  ...                              1\n",
              "3               0  ...                              1\n",
              "4               0  ...                              1\n",
              "5               0  ...                              1\n",
              "\n",
              "[5 rows x 29 columns]"
            ]
          },
          "metadata": {},
          "execution_count": 14
        }
      ]
    },
    {
      "cell_type": "code",
      "metadata": {
        "colab": {
          "base_uri": "https://localhost:8080/"
        },
        "id": "DKKmFzJdY4AV",
        "outputId": "a408fca7-77de-4252-85f3-86472fdd3783"
      },
      "source": [
        "# Removing the target column revenue from X\n",
        "X = X.drop(['Revenue'], axis = 1)\n",
        "\n",
        "\n",
        "# Checking the shapes\n",
        "print(\"Shape of X:\", X.shape)\n",
        "print(\"Shape of y:\", y.shape)"
      ],
      "execution_count": null,
      "outputs": [
        {
          "output_type": "stream",
          "name": "stdout",
          "text": [
            "Shape of X: (3729, 28)\n",
            "Shape of y: (3729,)\n"
          ]
        }
      ]
    },
    {
      "cell_type": "code",
      "source": [
        "from sklearn.model_selection import train_test_split\n",
        "X_train, X_test, y_train, y_test = train_test_split(X, y, test_size=0.2)"
      ],
      "metadata": {
        "id": "cefKYJ_eQiWk"
      },
      "execution_count": null,
      "outputs": []
    },
    {
      "cell_type": "code",
      "metadata": {
        "id": "Rmrc-E7bXDaU"
      },
      "source": [
        "from sklearn.feature_selection import SequentialFeatureSelector\n",
        "from sklearn.metrics import confusion_matrix, ConfusionMatrixDisplay\n",
        "from sklearn.metrics import classification_report"
      ],
      "execution_count": null,
      "outputs": []
    },
    {
      "cell_type": "code",
      "source": [
        "from sklearn.linear_model import LogisticRegression\n",
        "model_lr = LogisticRegression(max_iter=10000)\n",
        "sfs_lr = SequentialFeatureSelector(model_lr, n_features_to_select = 10, cv =5, direction='forward')\n",
        "sfs_lr.fit(X_train, y_train)\n",
        "print(X.columns[sfs_lr.get_support()])"
      ],
      "metadata": {
        "colab": {
          "base_uri": "https://localhost:8080/"
        },
        "id": "6wGEYW2iHAtT",
        "outputId": "38518a81-4265-4e3a-99dc-14656d6ea131"
      },
      "execution_count": null,
      "outputs": [
        {
          "output_type": "stream",
          "name": "stdout",
          "text": [
            "Index(['BounceRates', 'ExitRates', 'PageValues', 'Browser', 'Region',\n",
            "       'TrafficType', 'Month_Aug', 'Month_Feb', 'Month_Mar', 'Month_Nov'],\n",
            "      dtype='object')\n"
          ]
        }
      ]
    },
    {
      "cell_type": "code",
      "source": [
        "X_train_sfs = sfs_lr.transform(X_train)\n",
        "X_test_sfs = sfs_lr.transform(X_test)\n",
        "\n",
        "model_lr.fit(X_train_sfs, y_train)\n",
        "y_pred_lr = model_lr.predict(X_test_sfs)"
      ],
      "metadata": {
        "id": "MtJFBsbPLuo_"
      },
      "execution_count": null,
      "outputs": []
    },
    {
      "cell_type": "code",
      "metadata": {
        "id": "jrJJDSXpaYoy",
        "colab": {
          "base_uri": "https://localhost:8080/",
          "height": 688
        },
        "outputId": "7f099056-6910-40de-9b50-f6fbf1eaf1e2"
      },
      "source": [
        "print(\"Training Accuracy :\", model_lr.score(X_train_sfs, y_train))\n",
        "print(\"Testing Accuracy :\", model_lr.score(X_test_sfs, y_test))\n",
        "\n",
        "# confusion matrix\n",
        "cm = confusion_matrix(y_test, y_pred_lr)\n",
        "disp = ConfusionMatrixDisplay(confusion_matrix=cm, display_labels=model_lr.classes_)\n",
        "disp.plot()\n",
        "plt.show()\n",
        "\n",
        "# classification report\n",
        "cr = classification_report(y_test, y_pred_lr)\n",
        "print(cr)"
      ],
      "execution_count": null,
      "outputs": [
        {
          "output_type": "stream",
          "name": "stdout",
          "text": [
            "Training Accuracy : 0.9674824002681864\n",
            "Testing Accuracy : 0.9571045576407506\n"
          ]
        },
        {
          "output_type": "display_data",
          "data": {
            "image/png": "[encoded data removed]",
            "text/plain": [
              "<Figure size 720x576 with 2 Axes>"
            ]
          },
          "metadata": {
            "needs_background": "light"
          }
        },
        {
          "output_type": "stream",
          "name": "stdout",
          "text": [
            "              precision    recall  f1-score   support\n",
            "\n",
            "       False       0.94      0.98      0.96       357\n",
            "        True       0.98      0.94      0.96       389\n",
            "\n",
            "    accuracy                           0.96       746\n",
            "   macro avg       0.96      0.96      0.96       746\n",
            "weighted avg       0.96      0.96      0.96       746\n",
            "\n"
          ]
        }
      ]
    },
    {
      "cell_type": "code",
      "metadata": {
        "id": "SSnCQquy99Xt",
        "colab": {
          "base_uri": "https://localhost:8080/"
        },
        "outputId": "e2ae60fd-6224-4a92-d842-e99d45bb7c14"
      },
      "source": [
        "# Linear SVM Model\n",
        "from sklearn.svm import LinearSVC\n",
        "model_SVM_lin = LinearSVC(random_state = 0, dual = False)\n",
        "sfs_SVM_lin = SequentialFeatureSelector(model_SVM_lin, n_features_to_select = 10, cv =5, direction='backward')\n",
        "sfs_SVM_lin.fit(X_train, y_train)\n",
        "print(X.columns[sfs_SVM_lin.get_support()])"
      ],
      "execution_count": null,
      "outputs": [
        {
          "output_type": "stream",
          "name": "stdout",
          "text": [
            "Index(['PageValues', 'Month_Aug', 'Month_Dec', 'Month_Jul', 'Month_June',\n",
            "       'Month_Mar', 'Month_May', 'Month_Nov', 'Month_Oct', 'Month_Sep'],\n",
            "      dtype='object')\n"
          ]
        }
      ]
    },
    {
      "cell_type": "code",
      "source": [
        "X_train_sfs = sfs_SVM_lin.transform(X_train)\n",
        "X_test_sfs = sfs_SVM_lin.transform(X_test)\n",
        "\n",
        "model_SVM_lin.fit(X_train_sfs, y_train)\n",
        "y_pred_SVM_lin = model_SVM_lin.predict(X_test_sfs)"
      ],
      "metadata": {
        "id": "_Stq0wv-NH8s"
      },
      "execution_count": null,
      "outputs": []
    },
    {
      "cell_type": "code",
      "metadata": {
        "id": "-NhtuHsS972C",
        "colab": {
          "base_uri": "https://localhost:8080/",
          "height": 688
        },
        "outputId": "a9eff61e-4116-419d-9915-09c92012ab14"
      },
      "source": [
        "print(\"Training Accuracy :\", model_SVM_lin.score(X_train_sfs, y_train))\n",
        "print(\"Testing Accuracy :\", model_SVM_lin.score(X_test_sfs, y_test))\n",
        "\n",
        "# confusion matrix\n",
        "cm = confusion_matrix(y_test, y_pred_SVM_lin)\n",
        "disp = ConfusionMatrixDisplay(confusion_matrix=cm, display_labels=model_SVM_lin.classes_)\n",
        "disp.plot()\n",
        "plt.show()\n",
        "\n",
        "# classification report\n",
        "cr = classification_report(y_test, y_pred_SVM_lin)\n",
        "print(cr)"
      ],
      "execution_count": null,
      "outputs": [
        {
          "output_type": "stream",
          "name": "stdout",
          "text": [
            "Training Accuracy : 0.9668119342943345\n",
            "Testing Accuracy : 0.9557640750670241\n"
          ]
        },
        {
          "output_type": "display_data",
          "data": {
            "image/png": "[encoded data removed]",
            "text/plain": [
              "<Figure size 720x576 with 2 Axes>"
            ]
          },
          "metadata": {
            "needs_background": "light"
          }
        },
        {
          "output_type": "stream",
          "name": "stdout",
          "text": [
            "              precision    recall  f1-score   support\n",
            "\n",
            "       False       0.93      0.98      0.95       357\n",
            "        True       0.98      0.94      0.96       389\n",
            "\n",
            "    accuracy                           0.96       746\n",
            "   macro avg       0.96      0.96      0.96       746\n",
            "weighted avg       0.96      0.96      0.96       746\n",
            "\n"
          ]
        }
      ]
    },
    {
      "cell_type": "code",
      "metadata": {
        "id": "nK5sCu2MdHga",
        "colab": {
          "base_uri": "https://localhost:8080/"
        },
        "outputId": "da08d265-9de2-452b-8c07-2867f7fe6893"
      },
      "source": [
        "# Quadratic SVM Model\n",
        "from sklearn.svm import SVC\n",
        "model_SVM_quad = SVC(kernel='poly', degree = 2, random_state = 0)\n",
        "sfs_SVM_quad = SequentialFeatureSelector(model_SVM_quad, n_features_to_select = 10, cv =5, direction='backward')\n",
        "sfs_SVM_quad.fit(X_train, y_train)\n",
        "print(X.columns[sfs_SVM_quad.get_support()])"
      ],
      "execution_count": null,
      "outputs": [
        {
          "output_type": "stream",
          "name": "stdout",
          "text": [
            "Index(['Administrative', 'Informational', 'ProductRelated', 'PageValues',\n",
            "       'Browser', 'Region', 'TrafficType', 'Month_Mar', 'Month_Nov',\n",
            "       'VisitorType_Returning_Visitor'],\n",
            "      dtype='object')\n"
          ]
        }
      ]
    },
    {
      "cell_type": "code",
      "source": [
        "X_train_sfs = sfs_SVM_quad.transform(X_train)\n",
        "X_test_sfs = sfs_SVM_quad.transform(X_test)\n",
        "\n",
        "model_SVM_quad.fit(X_train_sfs, y_train)\n",
        "y_pred_SVM_quad = model_SVM_quad.predict(X_test_sfs)"
      ],
      "metadata": {
        "id": "IyedV5JTPELP"
      },
      "execution_count": null,
      "outputs": []
    },
    {
      "cell_type": "code",
      "metadata": {
        "id": "U9UH63HwgkzW",
        "colab": {
          "base_uri": "https://localhost:8080/",
          "height": 688
        },
        "outputId": "c53539ec-29bc-458c-8020-d735059221ce"
      },
      "source": [
        "print(\"Training Accuracy :\", model_SVM_quad.score(X_train_sfs, y_train))\n",
        "print(\"Testing Accuracy :\", model_SVM_quad.score(X_test_sfs, y_test))\n",
        "\n",
        "# confusion matrix\n",
        "cm = confusion_matrix(y_test, y_pred_SVM_quad)\n",
        "disp = ConfusionMatrixDisplay(confusion_matrix=cm, display_labels=model_SVM_quad.classes_)\n",
        "disp.plot()\n",
        "plt.show()\n",
        "\n",
        "# classification report\n",
        "cr = classification_report(y_test, y_pred_SVM_quad)\n",
        "print(cr)"
      ],
      "execution_count": null,
      "outputs": [
        {
          "output_type": "stream",
          "name": "stdout",
          "text": [
            "Training Accuracy : 0.8514917867918204\n",
            "Testing Accuracy : 0.8525469168900804\n"
          ]
        },
        {
          "output_type": "display_data",
          "data": {
            "image/png": "[encoded data removed]",
            "text/plain": [
              "<Figure size 720x576 with 2 Axes>"
            ]
          },
          "metadata": {
            "needs_background": "light"
          }
        },
        {
          "output_type": "stream",
          "name": "stdout",
          "text": [
            "              precision    recall  f1-score   support\n",
            "\n",
            "       False       0.79      0.94      0.86       357\n",
            "        True       0.94      0.77      0.84       389\n",
            "\n",
            "    accuracy                           0.85       746\n",
            "   macro avg       0.86      0.86      0.85       746\n",
            "weighted avg       0.87      0.85      0.85       746\n",
            "\n"
          ]
        }
      ]
    },
    {
      "cell_type": "code",
      "metadata": {
        "id": "UVV66cdFf9y3",
        "colab": {
          "base_uri": "https://localhost:8080/"
        },
        "outputId": "61f522fa-188e-4736-8da2-813f6aa51cfb"
      },
      "source": [
        "#KNN\n",
        "from sklearn.neighbors import KNeighborsClassifier\n",
        "model_knn = KNeighborsClassifier(n_neighbors = 5, metric = 'minkowski', p = 2)\n",
        "sfs_knn = SequentialFeatureSelector(model_knn, n_features_to_select = 10, cv =5, direction='backward')\n",
        "sfs_knn.fit(X_train, y_train)\n",
        "print(X.columns[sfs_knn.get_support()])"
      ],
      "execution_count": null,
      "outputs": [
        {
          "output_type": "stream",
          "name": "stdout",
          "text": [
            "Index(['Informational', 'PageValues', 'Weekend', 'Month_Aug', 'Month_Dec',\n",
            "       'Month_Feb', 'Month_June', 'Month_Mar', 'Month_Oct', 'Month_Sep'],\n",
            "      dtype='object')\n"
          ]
        }
      ]
    },
    {
      "cell_type": "code",
      "source": [
        "X_train_sfs = sfs_knn.transform(X_train)\n",
        "X_test_sfs = sfs_knn.transform(X_test)\n",
        "\n",
        "model_knn.fit(X_train_sfs, y_train)\n",
        "y_pred_knn = model_knn.predict(X_test_sfs)"
      ],
      "metadata": {
        "id": "eYQzrvyoWk2A"
      },
      "execution_count": null,
      "outputs": []
    },
    {
      "cell_type": "code",
      "metadata": {
        "id": "6a2f9m2Zg0GG",
        "colab": {
          "base_uri": "https://localhost:8080/",
          "height": 688
        },
        "outputId": "8b20f610-cb03-472e-f81a-2ee9c0d4b3f9"
      },
      "source": [
        "print(\"Training Accuracy :\", model_knn.score(X_train_sfs, y_train))\n",
        "print(\"Testing Accuracy :\", model_knn.score(X_test_sfs, y_test))\n",
        "\n",
        "# confusion matrix\n",
        "cm = confusion_matrix(y_test, y_pred_knn)\n",
        "disp = ConfusionMatrixDisplay(confusion_matrix=cm, display_labels=model_knn.classes_)\n",
        "disp.plot()\n",
        "plt.show()\n",
        "\n",
        "# classification report\n",
        "cr = classification_report(y_test, y_pred_knn)\n",
        "print(cr)"
      ],
      "execution_count": null,
      "outputs": [
        {
          "output_type": "stream",
          "name": "stdout",
          "text": [
            "Training Accuracy : 0.9772041568890378\n",
            "Testing Accuracy : 0.967828418230563\n"
          ]
        },
        {
          "output_type": "display_data",
          "data": {
            "image/png": "[encoded data removed]",
            "text/plain": [
              "<Figure size 720x576 with 2 Axes>"
            ]
          },
          "metadata": {
            "needs_background": "light"
          }
        },
        {
          "output_type": "stream",
          "name": "stdout",
          "text": [
            "              precision    recall  f1-score   support\n",
            "\n",
            "       False       0.99      0.95      0.97       357\n",
            "        True       0.95      0.99      0.97       389\n",
            "\n",
            "    accuracy                           0.97       746\n",
            "   macro avg       0.97      0.97      0.97       746\n",
            "weighted avg       0.97      0.97      0.97       746\n",
            "\n"
          ]
        }
      ]
    },
    {
      "cell_type": "code",
      "metadata": {
        "id": "sxn0FXffg7a2",
        "colab": {
          "base_uri": "https://localhost:8080/"
        },
        "outputId": "8e2b6e17-54e2-445f-a67c-bed6c0ac667a"
      },
      "source": [
        "# Random Forest Classifier\n",
        "from sklearn.ensemble import RandomForestClassifier\n",
        "model_rf = RandomForestClassifier()\n",
        "sfs_rf = SequentialFeatureSelector(model_rf, n_features_to_select = 10, cv =5, direction='backward')\n",
        "sfs_rf.fit(X_train, y_train)\n",
        "print(X.columns[sfs_rf.get_support()])"
      ],
      "execution_count": null,
      "outputs": [
        {
          "output_type": "stream",
          "name": "stdout",
          "text": [
            "Index(['Informational', 'ProductRelated', 'ExitRates', 'PageValues',\n",
            "       'TrafficType', 'Weekend', 'Month_Feb', 'Month_Mar', 'Month_Nov',\n",
            "       'VisitorType_Other'],\n",
            "      dtype='object')\n"
          ]
        }
      ]
    },
    {
      "cell_type": "code",
      "source": [
        "X_train_sfs = sfs_rf.transform(X_train)\n",
        "X_test_sfs = sfs_rf.transform(X_test)\n",
        "\n",
        "model_rf = model_rf.fit(X_train_sfs,y_train)\n",
        "y_pred_rf = model_rf.predict(X_test_sfs)"
      ],
      "metadata": {
        "id": "Z586aQ5XXSCY"
      },
      "execution_count": null,
      "outputs": []
    },
    {
      "cell_type": "code",
      "metadata": {
        "id": "bJmnEhkneHDA",
        "colab": {
          "base_uri": "https://localhost:8080/",
          "height": 688
        },
        "outputId": "1c53fe40-eadf-4ce0-a938-695af765f30d"
      },
      "source": [
        "print(\"Training Accuracy :\", model_rf.score(X_train_sfs, y_train))\n",
        "print(\"Testing Accuracy :\", model_rf.score(X_test_sfs, y_test))\n",
        "\n",
        "# confusion matrix\n",
        "cm = confusion_matrix(y_test, y_pred_rf)\n",
        "disp = ConfusionMatrixDisplay(confusion_matrix=cm, display_labels=model_rf.classes_)\n",
        "disp.plot()\n",
        "plt.show()\n",
        "\n",
        "# classification report\n",
        "cr = classification_report(y_test, y_pred_rf)\n",
        "print(cr)"
      ],
      "execution_count": null,
      "outputs": [
        {
          "output_type": "stream",
          "name": "stdout",
          "text": [
            "Training Accuracy : 1.0\n",
            "Testing Accuracy : 0.9611260053619303\n"
          ]
        },
        {
          "output_type": "display_data",
          "data": {
            "image/png": "[encoded data removed]",
            "text/plain": [
              "<Figure size 720x576 with 2 Axes>"
            ]
          },
          "metadata": {
            "needs_background": "light"
          }
        },
        {
          "output_type": "stream",
          "name": "stdout",
          "text": [
            "              precision    recall  f1-score   support\n",
            "\n",
            "       False       0.96      0.96      0.96       357\n",
            "        True       0.96      0.96      0.96       389\n",
            "\n",
            "    accuracy                           0.96       746\n",
            "   macro avg       0.96      0.96      0.96       746\n",
            "weighted avg       0.96      0.96      0.96       746\n",
            "\n"
          ]
        }
      ]
    },
    {
      "cell_type": "code",
      "metadata": {
        "id": "74l6a32Neply",
        "colab": {
          "base_uri": "https://localhost:8080/"
        },
        "outputId": "8590cb46-3780-4c1f-ab21-d5287bd0e139"
      },
      "source": [
        "# Neural Network Classifier\n",
        "from keras.models import Sequential\n",
        "from keras.layers import Dropout\n",
        "from keras.layers import Dense\n",
        "X_train = np.asarray(X_train).astype(np.float32)\n",
        "X_test = np.asarray(X_test).astype(np.float32)\n",
        "y_train = np.asarray(y_train).astype(np.float32)\n",
        "model_nn = Sequential()\n",
        "model_nn.add(Dense(units = 64, activation = 'relu', input_dim = 28))\n",
        "model_nn.add(Dropout(0.2))\n",
        "model_nn.add(Dense(units = 32, activation = 'relu'))\n",
        "model_nn.add(Dropout(0.2))\n",
        "model_nn.add(Dense(units = 16, activation = 'relu'))\n",
        "model_nn.add(Dropout(0.2))\n",
        "model_nn.add(Dense(units = 1, activation = 'sigmoid'))\n",
        "model_nn.compile(optimizer = 'rmsprop', loss = 'binary_crossentropy', metrics = ['accuracy'])\n",
        "model_nn.fit(X_train, y_train, batch_size = 32, epochs = 100, verbose=2)\n",
        "y_pred_nn = model_nn.predict(X_test)\n",
        "y_pred_nn = np.round(y_pred_nn).astype(int)"
      ],
      "execution_count": null,
      "outputs": [
        {
          "output_type": "stream",
          "name": "stdout",
          "text": [
            "Epoch 1/100\n",
            "94/94 - 3s - loss: 11.4221 - accuracy: 0.5464 - 3s/epoch - 30ms/step\n",
            "Epoch 2/100\n",
            "94/94 - 0s - loss: 2.5257 - accuracy: 0.5585 - 346ms/epoch - 4ms/step\n",
            "Epoch 3/100\n",
            "94/94 - 0s - loss: 1.0719 - accuracy: 0.5535 - 339ms/epoch - 4ms/step\n",
            "Epoch 4/100\n",
            "94/94 - 0s - loss: 0.7558 - accuracy: 0.5873 - 279ms/epoch - 3ms/step\n",
            "Epoch 5/100\n",
            "94/94 - 0s - loss: 0.7289 - accuracy: 0.6235 - 330ms/epoch - 4ms/step\n",
            "Epoch 6/100\n",
            "94/94 - 0s - loss: 0.7479 - accuracy: 0.6195 - 222ms/epoch - 2ms/step\n",
            "Epoch 7/100\n",
            "94/94 - 0s - loss: 0.6403 - accuracy: 0.6460 - 224ms/epoch - 2ms/step\n",
            "Epoch 8/100\n",
            "94/94 - 0s - loss: 0.6852 - accuracy: 0.6584 - 210ms/epoch - 2ms/step\n",
            "Epoch 9/100\n",
            "94/94 - 0s - loss: 0.6632 - accuracy: 0.6443 - 302ms/epoch - 3ms/step\n",
            "Epoch 10/100\n",
            "94/94 - 0s - loss: 0.6908 - accuracy: 0.6651 - 245ms/epoch - 3ms/step\n",
            "Epoch 11/100\n",
            "94/94 - 0s - loss: 0.6602 - accuracy: 0.6815 - 262ms/epoch - 3ms/step\n",
            "Epoch 12/100\n",
            "94/94 - 0s - loss: 0.6626 - accuracy: 0.6986 - 258ms/epoch - 3ms/step\n",
            "Epoch 13/100\n",
            "94/94 - 0s - loss: 0.6165 - accuracy: 0.6956 - 263ms/epoch - 3ms/step\n",
            "Epoch 14/100\n",
            "94/94 - 0s - loss: 0.6003 - accuracy: 0.7137 - 223ms/epoch - 2ms/step\n",
            "Epoch 15/100\n",
            "94/94 - 0s - loss: 0.5652 - accuracy: 0.7409 - 273ms/epoch - 3ms/step\n",
            "Epoch 16/100\n",
            "94/94 - 0s - loss: 0.5755 - accuracy: 0.7563 - 197ms/epoch - 2ms/step\n",
            "Epoch 17/100\n",
            "94/94 - 0s - loss: 0.5356 - accuracy: 0.7580 - 261ms/epoch - 3ms/step\n",
            "Epoch 18/100\n",
            "94/94 - 0s - loss: 0.5456 - accuracy: 0.7687 - 263ms/epoch - 3ms/step\n",
            "Epoch 19/100\n",
            "94/94 - 0s - loss: 0.5249 - accuracy: 0.7844 - 296ms/epoch - 3ms/step\n",
            "Epoch 20/100\n",
            "94/94 - 0s - loss: 0.4923 - accuracy: 0.7982 - 296ms/epoch - 3ms/step\n",
            "Epoch 21/100\n",
            "94/94 - 0s - loss: 0.4905 - accuracy: 0.8089 - 339ms/epoch - 4ms/step\n",
            "Epoch 22/100\n",
            "94/94 - 0s - loss: 0.4393 - accuracy: 0.8207 - 282ms/epoch - 3ms/step\n",
            "Epoch 23/100\n",
            "94/94 - 0s - loss: 0.4545 - accuracy: 0.8143 - 304ms/epoch - 3ms/step\n",
            "Epoch 24/100\n",
            "94/94 - 0s - loss: 0.4317 - accuracy: 0.8381 - 290ms/epoch - 3ms/step\n",
            "Epoch 25/100\n",
            "94/94 - 0s - loss: 0.4110 - accuracy: 0.8478 - 201ms/epoch - 2ms/step\n",
            "Epoch 26/100\n",
            "94/94 - 0s - loss: 0.3967 - accuracy: 0.8458 - 282ms/epoch - 3ms/step\n",
            "Epoch 27/100\n",
            "94/94 - 0s - loss: 0.3640 - accuracy: 0.8649 - 265ms/epoch - 3ms/step\n",
            "Epoch 28/100\n",
            "94/94 - 0s - loss: 0.3594 - accuracy: 0.8622 - 249ms/epoch - 3ms/step\n",
            "Epoch 29/100\n",
            "94/94 - 0s - loss: 0.3576 - accuracy: 0.8676 - 273ms/epoch - 3ms/step\n",
            "Epoch 30/100\n",
            "94/94 - 0s - loss: 0.3403 - accuracy: 0.8890 - 269ms/epoch - 3ms/step\n",
            "Epoch 31/100\n",
            "94/94 - 0s - loss: 0.3252 - accuracy: 0.8887 - 261ms/epoch - 3ms/step\n",
            "Epoch 32/100\n",
            "94/94 - 0s - loss: 0.2959 - accuracy: 0.8954 - 267ms/epoch - 3ms/step\n",
            "Epoch 33/100\n",
            "94/94 - 0s - loss: 0.2928 - accuracy: 0.9001 - 286ms/epoch - 3ms/step\n",
            "Epoch 34/100\n",
            "94/94 - 0s - loss: 0.2796 - accuracy: 0.9118 - 268ms/epoch - 3ms/step\n",
            "Epoch 35/100\n",
            "94/94 - 0s - loss: 0.2791 - accuracy: 0.9092 - 274ms/epoch - 3ms/step\n",
            "Epoch 36/100\n",
            "94/94 - 0s - loss: 0.2412 - accuracy: 0.9209 - 267ms/epoch - 3ms/step\n",
            "Epoch 37/100\n",
            "94/94 - 0s - loss: 0.2407 - accuracy: 0.9239 - 265ms/epoch - 3ms/step\n",
            "Epoch 38/100\n",
            "94/94 - 0s - loss: 0.2308 - accuracy: 0.9229 - 243ms/epoch - 3ms/step\n",
            "Epoch 39/100\n",
            "94/94 - 0s - loss: 0.2271 - accuracy: 0.9283 - 208ms/epoch - 2ms/step\n",
            "Epoch 40/100\n",
            "94/94 - 0s - loss: 0.2138 - accuracy: 0.9360 - 152ms/epoch - 2ms/step\n",
            "Epoch 41/100\n",
            "94/94 - 0s - loss: 0.2001 - accuracy: 0.9390 - 161ms/epoch - 2ms/step\n",
            "Epoch 42/100\n",
            "94/94 - 0s - loss: 0.2595 - accuracy: 0.9366 - 160ms/epoch - 2ms/step\n",
            "Epoch 43/100\n",
            "94/94 - 0s - loss: 0.2168 - accuracy: 0.9400 - 156ms/epoch - 2ms/step\n",
            "Epoch 44/100\n",
            "94/94 - 0s - loss: 0.2224 - accuracy: 0.9366 - 157ms/epoch - 2ms/step\n",
            "Epoch 45/100\n",
            "94/94 - 0s - loss: 0.2150 - accuracy: 0.9387 - 191ms/epoch - 2ms/step\n",
            "Epoch 46/100\n",
            "94/94 - 0s - loss: 0.1930 - accuracy: 0.9467 - 175ms/epoch - 2ms/step\n",
            "Epoch 47/100\n",
            "94/94 - 0s - loss: 0.2352 - accuracy: 0.9427 - 197ms/epoch - 2ms/step\n",
            "Epoch 48/100\n",
            "94/94 - 0s - loss: 0.1948 - accuracy: 0.9437 - 178ms/epoch - 2ms/step\n",
            "Epoch 49/100\n",
            "94/94 - 0s - loss: 0.1932 - accuracy: 0.9417 - 167ms/epoch - 2ms/step\n",
            "Epoch 50/100\n",
            "94/94 - 0s - loss: 0.1768 - accuracy: 0.9484 - 154ms/epoch - 2ms/step\n",
            "Epoch 51/100\n",
            "94/94 - 0s - loss: 0.1974 - accuracy: 0.9470 - 159ms/epoch - 2ms/step\n",
            "Epoch 52/100\n",
            "94/94 - 0s - loss: 0.2048 - accuracy: 0.9477 - 156ms/epoch - 2ms/step\n",
            "Epoch 53/100\n",
            "94/94 - 0s - loss: 0.1815 - accuracy: 0.9514 - 154ms/epoch - 2ms/step\n",
            "Epoch 54/100\n",
            "94/94 - 0s - loss: 0.1564 - accuracy: 0.9514 - 165ms/epoch - 2ms/step\n",
            "Epoch 55/100\n",
            "94/94 - 0s - loss: 0.1584 - accuracy: 0.9521 - 164ms/epoch - 2ms/step\n",
            "Epoch 56/100\n",
            "94/94 - 0s - loss: 0.1713 - accuracy: 0.9604 - 173ms/epoch - 2ms/step\n",
            "Epoch 57/100\n",
            "94/94 - 0s - loss: 0.1837 - accuracy: 0.9521 - 174ms/epoch - 2ms/step\n",
            "Epoch 58/100\n",
            "94/94 - 0s - loss: 0.1814 - accuracy: 0.9531 - 167ms/epoch - 2ms/step\n",
            "Epoch 59/100\n",
            "94/94 - 0s - loss: 0.1784 - accuracy: 0.9544 - 165ms/epoch - 2ms/step\n",
            "Epoch 60/100\n",
            "94/94 - 0s - loss: 0.1542 - accuracy: 0.9487 - 161ms/epoch - 2ms/step\n",
            "Epoch 61/100\n",
            "94/94 - 0s - loss: 0.1663 - accuracy: 0.9531 - 154ms/epoch - 2ms/step\n",
            "Epoch 62/100\n",
            "94/94 - 0s - loss: 0.1594 - accuracy: 0.9531 - 150ms/epoch - 2ms/step\n",
            "Epoch 63/100\n",
            "94/94 - 0s - loss: 0.1546 - accuracy: 0.9547 - 154ms/epoch - 2ms/step\n",
            "Epoch 64/100\n",
            "94/94 - 0s - loss: 0.1785 - accuracy: 0.9494 - 155ms/epoch - 2ms/step\n",
            "Epoch 65/100\n",
            "94/94 - 0s - loss: 0.1535 - accuracy: 0.9554 - 158ms/epoch - 2ms/step\n",
            "Epoch 66/100\n",
            "94/94 - 0s - loss: 0.1480 - accuracy: 0.9524 - 172ms/epoch - 2ms/step\n",
            "Epoch 67/100\n",
            "94/94 - 0s - loss: 0.1573 - accuracy: 0.9517 - 150ms/epoch - 2ms/step\n",
            "Epoch 68/100\n",
            "94/94 - 0s - loss: 0.1481 - accuracy: 0.9541 - 145ms/epoch - 2ms/step\n",
            "Epoch 69/100\n",
            "94/94 - 0s - loss: 0.1370 - accuracy: 0.9557 - 163ms/epoch - 2ms/step\n",
            "Epoch 70/100\n",
            "94/94 - 0s - loss: 0.1451 - accuracy: 0.9551 - 144ms/epoch - 2ms/step\n",
            "Epoch 71/100\n",
            "94/94 - 0s - loss: 0.1562 - accuracy: 0.9511 - 161ms/epoch - 2ms/step\n",
            "Epoch 72/100\n",
            "94/94 - 0s - loss: 0.1359 - accuracy: 0.9588 - 152ms/epoch - 2ms/step\n",
            "Epoch 73/100\n",
            "94/94 - 0s - loss: 0.1654 - accuracy: 0.9534 - 170ms/epoch - 2ms/step\n",
            "Epoch 74/100\n",
            "94/94 - 0s - loss: 0.1435 - accuracy: 0.9531 - 147ms/epoch - 2ms/step\n",
            "Epoch 75/100\n",
            "94/94 - 0s - loss: 0.1371 - accuracy: 0.9601 - 182ms/epoch - 2ms/step\n",
            "Epoch 76/100\n",
            "94/94 - 0s - loss: 0.1222 - accuracy: 0.9584 - 158ms/epoch - 2ms/step\n",
            "Epoch 77/100\n",
            "94/94 - 0s - loss: 0.1400 - accuracy: 0.9547 - 183ms/epoch - 2ms/step\n",
            "Epoch 78/100\n",
            "94/94 - 0s - loss: 0.1270 - accuracy: 0.9618 - 169ms/epoch - 2ms/step\n",
            "Epoch 79/100\n",
            "94/94 - 0s - loss: 0.1245 - accuracy: 0.9594 - 175ms/epoch - 2ms/step\n",
            "Epoch 80/100\n",
            "94/94 - 0s - loss: 0.1402 - accuracy: 0.9608 - 157ms/epoch - 2ms/step\n",
            "Epoch 81/100\n",
            "94/94 - 0s - loss: 0.1377 - accuracy: 0.9568 - 159ms/epoch - 2ms/step\n",
            "Epoch 82/100\n",
            "94/94 - 0s - loss: 0.1168 - accuracy: 0.9598 - 183ms/epoch - 2ms/step\n",
            "Epoch 83/100\n",
            "94/94 - 0s - loss: 0.1222 - accuracy: 0.9598 - 153ms/epoch - 2ms/step\n",
            "Epoch 84/100\n",
            "94/94 - 0s - loss: 0.1299 - accuracy: 0.9598 - 140ms/epoch - 1ms/step\n",
            "Epoch 85/100\n",
            "94/94 - 0s - loss: 0.1171 - accuracy: 0.9557 - 155ms/epoch - 2ms/step\n",
            "Epoch 86/100\n",
            "94/94 - 0s - loss: 0.1249 - accuracy: 0.9618 - 153ms/epoch - 2ms/step\n",
            "Epoch 87/100\n",
            "94/94 - 0s - loss: 0.1121 - accuracy: 0.9608 - 158ms/epoch - 2ms/step\n",
            "Epoch 88/100\n",
            "94/94 - 0s - loss: 0.1246 - accuracy: 0.9601 - 148ms/epoch - 2ms/step\n",
            "Epoch 89/100\n",
            "94/94 - 0s - loss: 0.1204 - accuracy: 0.9631 - 163ms/epoch - 2ms/step\n",
            "Epoch 90/100\n",
            "94/94 - 0s - loss: 0.1302 - accuracy: 0.9618 - 156ms/epoch - 2ms/step\n",
            "Epoch 91/100\n",
            "94/94 - 0s - loss: 0.1256 - accuracy: 0.9625 - 166ms/epoch - 2ms/step\n",
            "Epoch 92/100\n",
            "94/94 - 0s - loss: 0.0963 - accuracy: 0.9608 - 167ms/epoch - 2ms/step\n",
            "Epoch 93/100\n",
            "94/94 - 0s - loss: 0.1187 - accuracy: 0.9574 - 158ms/epoch - 2ms/step\n",
            "Epoch 94/100\n",
            "94/94 - 0s - loss: 0.1300 - accuracy: 0.9614 - 154ms/epoch - 2ms/step\n",
            "Epoch 95/100\n",
            "94/94 - 0s - loss: 0.1050 - accuracy: 0.9578 - 169ms/epoch - 2ms/step\n",
            "Epoch 96/100\n",
            "94/94 - 0s - loss: 0.1133 - accuracy: 0.9614 - 151ms/epoch - 2ms/step\n",
            "Epoch 97/100\n",
            "94/94 - 0s - loss: 0.1228 - accuracy: 0.9571 - 157ms/epoch - 2ms/step\n",
            "Epoch 98/100\n",
            "94/94 - 0s - loss: 0.1129 - accuracy: 0.9631 - 182ms/epoch - 2ms/step\n",
            "Epoch 99/100\n",
            "94/94 - 0s - loss: 0.1211 - accuracy: 0.9598 - 145ms/epoch - 2ms/step\n",
            "Epoch 100/100\n",
            "94/94 - 0s - loss: 0.1260 - accuracy: 0.9578 - 156ms/epoch - 2ms/step\n"
          ]
        }
      ]
    },
    {
      "cell_type": "code",
      "metadata": {
        "id": "THi1_LG4eoX-",
        "colab": {
          "base_uri": "https://localhost:8080/"
        },
        "outputId": "61ae1874-7da8-4247-9549-86d58120b7fd"
      },
      "source": [
        "print(\"Training Accuracy :\", model_nn.evaluate(X_train, y_train, verbose=0)[1])\n",
        "print(\"Testing Accuracy :\", model_nn.evaluate(X_test, y_test, verbose=0)[1])\n",
        "\n",
        "from tensorflow.math import confusion_matrix\n",
        "# confusion matrix\n",
        "disp = confusion_matrix(y_test, y_pred_nn)\n",
        "print(disp)\n",
        "\n",
        "# classification report\n",
        "cr = model_nn.summary()\n",
        "print(cr)"
      ],
      "execution_count": null,
      "outputs": [
        {
          "output_type": "stream",
          "name": "stdout",
          "text": [
            "Training Accuracy : 0.9648005366325378\n",
            "Testing Accuracy : 0.9651474356651306\n",
            "tf.Tensor(\n",
            "[[340  17]\n",
            " [  9 380]], shape=(2, 2), dtype=int32)\n",
            "Model: \"sequential_1\"\n",
            "_________________________________________________________________\n",
            " Layer (type)                Output Shape              Param #   \n",
            "=================================================================\n",
            " dense_4 (Dense)             (None, 64)                1856      \n",
            "                                                                 \n",
            " dropout_3 (Dropout)         (None, 64)                0         \n",
            "                                                                 \n",
            " dense_5 (Dense)             (None, 32)                2080      \n",
            "                                                                 \n",
            " dropout_4 (Dropout)         (None, 32)                0         \n",
            "                                                                 \n",
            " dense_6 (Dense)             (None, 16)                528       \n",
            "                                                                 \n",
            " dropout_5 (Dropout)         (None, 16)                0         \n",
            "                                                                 \n",
            " dense_7 (Dense)             (None, 1)                 17        \n",
            "                                                                 \n",
            "=================================================================\n",
            "Total params: 4,481\n",
            "Trainable params: 4,481\n",
            "Non-trainable params: 0\n",
            "_________________________________________________________________\n",
            "None\n"
          ]
        }
      ]
    }
  ]
}